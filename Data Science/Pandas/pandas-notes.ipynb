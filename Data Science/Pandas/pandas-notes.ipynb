{
 "cells": [
  {
   "cell_type": "code",
   "execution_count": 56,
   "metadata": {
    "execution": {
     "iopub.execute_input": "2023-10-15T16:13:08.003974Z",
     "iopub.status.busy": "2023-10-15T16:13:08.003525Z",
     "iopub.status.idle": "2023-10-15T16:13:08.328851Z",
     "shell.execute_reply": "2023-10-15T16:13:08.327611Z",
     "shell.execute_reply.started": "2023-10-15T16:13:08.003943Z"
    }
   },
   "outputs": [],
   "source": [
    "import pandas as pd"
   ]
  },
  {
   "cell_type": "markdown",
   "metadata": {},
   "source": [
    "# I. Types"
   ]
  },
  {
   "cell_type": "markdown",
   "metadata": {},
   "source": [
    "## I.1. DataFrames"
   ]
  },
  {
   "cell_type": "markdown",
   "metadata": {},
   "source": [
    "#### A 2D table, similar to a spreadsheet (with column names and row labels)"
   ]
  },
  {
   "cell_type": "code",
   "execution_count": 134,
   "metadata": {
    "execution": {
     "iopub.execute_input": "2023-10-15T16:13:08.332578Z",
     "iopub.status.busy": "2023-10-15T16:13:08.331615Z",
     "iopub.status.idle": "2023-10-15T16:13:08.355727Z",
     "shell.execute_reply": "2023-10-15T16:13:08.354882Z",
     "shell.execute_reply.started": "2023-10-15T16:13:08.332544Z"
    }
   },
   "outputs": [
    {
     "data": {
      "text/html": [
       "<div>\n",
       "<style scoped>\n",
       "    .dataframe tbody tr th:only-of-type {\n",
       "        vertical-align: middle;\n",
       "    }\n",
       "\n",
       "    .dataframe tbody tr th {\n",
       "        vertical-align: top;\n",
       "    }\n",
       "\n",
       "    .dataframe thead th {\n",
       "        text-align: right;\n",
       "    }\n",
       "</style>\n",
       "<table border=\"1\" class=\"dataframe\">\n",
       "  <thead>\n",
       "    <tr style=\"text-align: right;\">\n",
       "      <th></th>\n",
       "      <th>Age</th>\n",
       "      <th>Height</th>\n",
       "      <th>Weight</th>\n",
       "    </tr>\n",
       "  </thead>\n",
       "  <tbody>\n",
       "    <tr>\n",
       "      <th>Rayen</th>\n",
       "      <td>24</td>\n",
       "      <td>182</td>\n",
       "      <td>79</td>\n",
       "    </tr>\n",
       "    <tr>\n",
       "      <th>Emna</th>\n",
       "      <td>19</td>\n",
       "      <td>173</td>\n",
       "      <td>70</td>\n",
       "    </tr>\n",
       "    <tr>\n",
       "      <th>Hasna</th>\n",
       "      <td>50</td>\n",
       "      <td>170</td>\n",
       "      <td>85</td>\n",
       "    </tr>\n",
       "    <tr>\n",
       "      <th>Kais</th>\n",
       "      <td>61</td>\n",
       "      <td>179</td>\n",
       "      <td>90</td>\n",
       "    </tr>\n",
       "  </tbody>\n",
       "</table>\n",
       "</div>"
      ],
      "text/plain": [
       "       Age  Height  Weight\n",
       "Rayen   24     182      79\n",
       "Emna    19     173      70\n",
       "Hasna   50     170      85\n",
       "Kais    61     179      90"
      ]
     },
     "execution_count": 134,
     "metadata": {},
     "output_type": "execute_result"
    }
   ],
   "source": [
    "pd.DataFrame({'Age':[24, 19, 50, 61], \n",
    "              'Height':[182, 173, 170, 179], \n",
    "              'Weight':[79, 70, 85, 90]},\n",
    "               index = ['Rayen', 'Emna', 'Hasna', 'Kais'])"
   ]
  },
  {
   "cell_type": "markdown",
   "metadata": {},
   "source": [
    "### Reading files"
   ]
  },
  {
   "cell_type": "code",
   "execution_count": 59,
   "metadata": {
    "execution": {
     "iopub.execute_input": "2023-10-15T16:19:35.122943Z",
     "iopub.status.busy": "2023-10-15T16:19:35.122491Z",
     "iopub.status.idle": "2023-10-15T16:19:35.166644Z",
     "shell.execute_reply": "2023-10-15T16:19:35.165761Z",
     "shell.execute_reply.started": "2023-10-15T16:19:35.122916Z"
    }
   },
   "outputs": [
    {
     "data": {
      "text/html": [
       "<div>\n",
       "<style scoped>\n",
       "    .dataframe tbody tr th:only-of-type {\n",
       "        vertical-align: middle;\n",
       "    }\n",
       "\n",
       "    .dataframe tbody tr th {\n",
       "        vertical-align: top;\n",
       "    }\n",
       "\n",
       "    .dataframe thead th {\n",
       "        text-align: right;\n",
       "    }\n",
       "</style>\n",
       "<table border=\"1\" class=\"dataframe\">\n",
       "  <thead>\n",
       "    <tr style=\"text-align: right;\">\n",
       "      <th></th>\n",
       "      <th>Class</th>\n",
       "      <th>Math_1</th>\n",
       "      <th>Math_2</th>\n",
       "      <th>Physics_1</th>\n",
       "      <th>Physics_2</th>\n",
       "      <th>Science_1</th>\n",
       "      <th>Science_2</th>\n",
       "      <th>Math</th>\n",
       "      <th>Physics</th>\n",
       "      <th>Science</th>\n",
       "      <th>Score</th>\n",
       "    </tr>\n",
       "    <tr>\n",
       "      <th>Student</th>\n",
       "      <th></th>\n",
       "      <th></th>\n",
       "      <th></th>\n",
       "      <th></th>\n",
       "      <th></th>\n",
       "      <th></th>\n",
       "      <th></th>\n",
       "      <th></th>\n",
       "      <th></th>\n",
       "      <th></th>\n",
       "      <th></th>\n",
       "    </tr>\n",
       "  </thead>\n",
       "  <tbody>\n",
       "    <tr>\n",
       "      <th>Student_1</th>\n",
       "      <td>IDL</td>\n",
       "      <td>6</td>\n",
       "      <td>14</td>\n",
       "      <td>15</td>\n",
       "      <td>3</td>\n",
       "      <td>14</td>\n",
       "      <td>0</td>\n",
       "      <td>10.0</td>\n",
       "      <td>9.0</td>\n",
       "      <td>7.0</td>\n",
       "      <td>8.67</td>\n",
       "    </tr>\n",
       "    <tr>\n",
       "      <th>Student_2</th>\n",
       "      <td>ISEOC</td>\n",
       "      <td>1</td>\n",
       "      <td>15</td>\n",
       "      <td>13</td>\n",
       "      <td>3</td>\n",
       "      <td>5</td>\n",
       "      <td>5</td>\n",
       "      <td>8.0</td>\n",
       "      <td>8.0</td>\n",
       "      <td>5.0</td>\n",
       "      <td>7.00</td>\n",
       "    </tr>\n",
       "    <tr>\n",
       "      <th>Student_3</th>\n",
       "      <td>IDL</td>\n",
       "      <td>13</td>\n",
       "      <td>8</td>\n",
       "      <td>9</td>\n",
       "      <td>7</td>\n",
       "      <td>15</td>\n",
       "      <td>12</td>\n",
       "      <td>10.5</td>\n",
       "      <td>8.0</td>\n",
       "      <td>13.5</td>\n",
       "      <td>10.67</td>\n",
       "    </tr>\n",
       "    <tr>\n",
       "      <th>Student_4</th>\n",
       "      <td>IDL</td>\n",
       "      <td>13</td>\n",
       "      <td>17</td>\n",
       "      <td>4</td>\n",
       "      <td>13</td>\n",
       "      <td>18</td>\n",
       "      <td>6</td>\n",
       "      <td>15.0</td>\n",
       "      <td>8.5</td>\n",
       "      <td>12.0</td>\n",
       "      <td>11.83</td>\n",
       "    </tr>\n",
       "    <tr>\n",
       "      <th>Student_5</th>\n",
       "      <td>IDISC</td>\n",
       "      <td>9</td>\n",
       "      <td>15</td>\n",
       "      <td>1</td>\n",
       "      <td>8</td>\n",
       "      <td>4</td>\n",
       "      <td>0</td>\n",
       "      <td>12.0</td>\n",
       "      <td>4.5</td>\n",
       "      <td>2.0</td>\n",
       "      <td>6.17</td>\n",
       "    </tr>\n",
       "    <tr>\n",
       "      <th>...</th>\n",
       "      <td>...</td>\n",
       "      <td>...</td>\n",
       "      <td>...</td>\n",
       "      <td>...</td>\n",
       "      <td>...</td>\n",
       "      <td>...</td>\n",
       "      <td>...</td>\n",
       "      <td>...</td>\n",
       "      <td>...</td>\n",
       "      <td>...</td>\n",
       "      <td>...</td>\n",
       "    </tr>\n",
       "    <tr>\n",
       "      <th>Student_24996</th>\n",
       "      <td>IDL</td>\n",
       "      <td>20</td>\n",
       "      <td>20</td>\n",
       "      <td>1</td>\n",
       "      <td>11</td>\n",
       "      <td>14</td>\n",
       "      <td>14</td>\n",
       "      <td>20.0</td>\n",
       "      <td>6.0</td>\n",
       "      <td>14.0</td>\n",
       "      <td>13.33</td>\n",
       "    </tr>\n",
       "    <tr>\n",
       "      <th>Student_24997</th>\n",
       "      <td>IDL</td>\n",
       "      <td>13</td>\n",
       "      <td>6</td>\n",
       "      <td>10</td>\n",
       "      <td>1</td>\n",
       "      <td>0</td>\n",
       "      <td>6</td>\n",
       "      <td>9.5</td>\n",
       "      <td>5.5</td>\n",
       "      <td>3.0</td>\n",
       "      <td>6.00</td>\n",
       "    </tr>\n",
       "    <tr>\n",
       "      <th>Student_24998</th>\n",
       "      <td>ISEOC</td>\n",
       "      <td>13</td>\n",
       "      <td>15</td>\n",
       "      <td>12</td>\n",
       "      <td>15</td>\n",
       "      <td>15</td>\n",
       "      <td>4</td>\n",
       "      <td>14.0</td>\n",
       "      <td>13.5</td>\n",
       "      <td>9.5</td>\n",
       "      <td>12.33</td>\n",
       "    </tr>\n",
       "    <tr>\n",
       "      <th>Student_24999</th>\n",
       "      <td>ISEOC</td>\n",
       "      <td>14</td>\n",
       "      <td>10</td>\n",
       "      <td>12</td>\n",
       "      <td>7</td>\n",
       "      <td>17</td>\n",
       "      <td>20</td>\n",
       "      <td>12.0</td>\n",
       "      <td>9.5</td>\n",
       "      <td>18.5</td>\n",
       "      <td>13.33</td>\n",
       "    </tr>\n",
       "    <tr>\n",
       "      <th>Student_25000</th>\n",
       "      <td>IDISC</td>\n",
       "      <td>10</td>\n",
       "      <td>4</td>\n",
       "      <td>19</td>\n",
       "      <td>18</td>\n",
       "      <td>5</td>\n",
       "      <td>12</td>\n",
       "      <td>7.0</td>\n",
       "      <td>18.5</td>\n",
       "      <td>8.5</td>\n",
       "      <td>11.33</td>\n",
       "    </tr>\n",
       "  </tbody>\n",
       "</table>\n",
       "<p>25000 rows × 11 columns</p>\n",
       "</div>"
      ],
      "text/plain": [
       "               Class  Math_1  Math_2  Physics_1  Physics_2  Science_1  \\\n",
       "Student                                                                 \n",
       "Student_1        IDL       6      14         15          3         14   \n",
       "Student_2      ISEOC       1      15         13          3          5   \n",
       "Student_3        IDL      13       8          9          7         15   \n",
       "Student_4        IDL      13      17          4         13         18   \n",
       "Student_5      IDISC       9      15          1          8          4   \n",
       "...              ...     ...     ...        ...        ...        ...   \n",
       "Student_24996    IDL      20      20          1         11         14   \n",
       "Student_24997    IDL      13       6         10          1          0   \n",
       "Student_24998  ISEOC      13      15         12         15         15   \n",
       "Student_24999  ISEOC      14      10         12          7         17   \n",
       "Student_25000  IDISC      10       4         19         18          5   \n",
       "\n",
       "               Science_2  Math  Physics  Science  Score  \n",
       "Student                                                  \n",
       "Student_1              0  10.0      9.0      7.0   8.67  \n",
       "Student_2              5   8.0      8.0      5.0   7.00  \n",
       "Student_3             12  10.5      8.0     13.5  10.67  \n",
       "Student_4              6  15.0      8.5     12.0  11.83  \n",
       "Student_5              0  12.0      4.5      2.0   6.17  \n",
       "...                  ...   ...      ...      ...    ...  \n",
       "Student_24996         14  20.0      6.0     14.0  13.33  \n",
       "Student_24997          6   9.5      5.5      3.0   6.00  \n",
       "Student_24998          4  14.0     13.5      9.5  12.33  \n",
       "Student_24999         20  12.0      9.5     18.5  13.33  \n",
       "Student_25000         12   7.0     18.5      8.5  11.33  \n",
       "\n",
       "[25000 rows x 11 columns]"
      ]
     },
     "execution_count": 59,
     "metadata": {},
     "output_type": "execute_result"
    }
   ],
   "source": [
    "students = pd.read_csv('./student_scores.csv', index_col = 0)\n",
    "students"
   ]
  },
  {
   "cell_type": "markdown",
   "metadata": {},
   "source": [
    "## I.2. Series"
   ]
  },
  {
   "cell_type": "markdown",
   "metadata": {},
   "source": [
    "##### A 1D array, similar to a column in a spreadsheet (with a column name and row labels)."
   ]
  },
  {
   "cell_type": "code",
   "execution_count": 13,
   "metadata": {
    "execution": {
     "iopub.execute_input": "2023-10-15T16:13:08.671903Z",
     "iopub.status.busy": "2023-10-15T16:13:08.671301Z",
     "iopub.status.idle": "2023-10-15T16:13:08.681239Z",
     "shell.execute_reply": "2023-10-15T16:13:08.679795Z",
     "shell.execute_reply.started": "2023-10-15T16:13:08.671872Z"
    }
   },
   "outputs": [
    {
     "data": {
      "text/plain": [
       "Num 0    0\n",
       "Num 1    1\n",
       "Num 2    2\n",
       "Num 3    3\n",
       "Num 4    4\n",
       "Num 5    5\n",
       "Num 6    6\n",
       "Num 7    7\n",
       "Num 8    8\n",
       "Num 9    9\n",
       "Name: Numbers from 1 to 10, dtype: int64"
      ]
     },
     "execution_count": 13,
     "metadata": {},
     "output_type": "execute_result"
    }
   ],
   "source": [
    "pd.Series(range(0,10),\n",
    "          index = ['Num '+str(i) for i in range(0,10)],\n",
    "          name ='Numbers from 1 to 10')"
   ]
  },
  {
   "cell_type": "markdown",
   "metadata": {},
   "source": [
    "# II. DataFrame Methods"
   ]
  },
  {
   "cell_type": "code",
   "execution_count": 14,
   "metadata": {
    "execution": {
     "iopub.execute_input": "2023-10-15T16:20:18.749786Z",
     "iopub.status.busy": "2023-10-15T16:20:18.749303Z",
     "iopub.status.idle": "2023-10-15T16:20:18.758828Z",
     "shell.execute_reply": "2023-10-15T16:20:18.757391Z",
     "shell.execute_reply.started": "2023-10-15T16:20:18.749750Z"
    }
   },
   "outputs": [
    {
     "data": {
      "text/plain": [
       "(25000, 11)"
      ]
     },
     "execution_count": 14,
     "metadata": {},
     "output_type": "execute_result"
    }
   ],
   "source": [
    "students.shape"
   ]
  },
  {
   "cell_type": "code",
   "execution_count": 61,
   "metadata": {
    "execution": {
     "iopub.execute_input": "2023-10-15T16:20:19.023395Z",
     "iopub.status.busy": "2023-10-15T16:20:19.022971Z",
     "iopub.status.idle": "2023-10-15T16:20:19.039305Z",
     "shell.execute_reply": "2023-10-15T16:20:19.038498Z",
     "shell.execute_reply.started": "2023-10-15T16:20:19.023365Z"
    }
   },
   "outputs": [
    {
     "data": {
      "text/html": [
       "<div>\n",
       "<style scoped>\n",
       "    .dataframe tbody tr th:only-of-type {\n",
       "        vertical-align: middle;\n",
       "    }\n",
       "\n",
       "    .dataframe tbody tr th {\n",
       "        vertical-align: top;\n",
       "    }\n",
       "\n",
       "    .dataframe thead th {\n",
       "        text-align: right;\n",
       "    }\n",
       "</style>\n",
       "<table border=\"1\" class=\"dataframe\">\n",
       "  <thead>\n",
       "    <tr style=\"text-align: right;\">\n",
       "      <th></th>\n",
       "      <th>Class</th>\n",
       "      <th>Math_1</th>\n",
       "      <th>Math_2</th>\n",
       "      <th>Physics_1</th>\n",
       "      <th>Physics_2</th>\n",
       "      <th>Science_1</th>\n",
       "      <th>Science_2</th>\n",
       "      <th>Math</th>\n",
       "      <th>Physics</th>\n",
       "      <th>Science</th>\n",
       "      <th>Score</th>\n",
       "    </tr>\n",
       "    <tr>\n",
       "      <th>Student</th>\n",
       "      <th></th>\n",
       "      <th></th>\n",
       "      <th></th>\n",
       "      <th></th>\n",
       "      <th></th>\n",
       "      <th></th>\n",
       "      <th></th>\n",
       "      <th></th>\n",
       "      <th></th>\n",
       "      <th></th>\n",
       "      <th></th>\n",
       "    </tr>\n",
       "  </thead>\n",
       "  <tbody>\n",
       "    <tr>\n",
       "      <th>Student_1</th>\n",
       "      <td>IDL</td>\n",
       "      <td>6</td>\n",
       "      <td>14</td>\n",
       "      <td>15</td>\n",
       "      <td>3</td>\n",
       "      <td>14</td>\n",
       "      <td>0</td>\n",
       "      <td>10.0</td>\n",
       "      <td>9.0</td>\n",
       "      <td>7.0</td>\n",
       "      <td>8.67</td>\n",
       "    </tr>\n",
       "    <tr>\n",
       "      <th>Student_2</th>\n",
       "      <td>ISEOC</td>\n",
       "      <td>1</td>\n",
       "      <td>15</td>\n",
       "      <td>13</td>\n",
       "      <td>3</td>\n",
       "      <td>5</td>\n",
       "      <td>5</td>\n",
       "      <td>8.0</td>\n",
       "      <td>8.0</td>\n",
       "      <td>5.0</td>\n",
       "      <td>7.00</td>\n",
       "    </tr>\n",
       "    <tr>\n",
       "      <th>Student_3</th>\n",
       "      <td>IDL</td>\n",
       "      <td>13</td>\n",
       "      <td>8</td>\n",
       "      <td>9</td>\n",
       "      <td>7</td>\n",
       "      <td>15</td>\n",
       "      <td>12</td>\n",
       "      <td>10.5</td>\n",
       "      <td>8.0</td>\n",
       "      <td>13.5</td>\n",
       "      <td>10.67</td>\n",
       "    </tr>\n",
       "    <tr>\n",
       "      <th>Student_4</th>\n",
       "      <td>IDL</td>\n",
       "      <td>13</td>\n",
       "      <td>17</td>\n",
       "      <td>4</td>\n",
       "      <td>13</td>\n",
       "      <td>18</td>\n",
       "      <td>6</td>\n",
       "      <td>15.0</td>\n",
       "      <td>8.5</td>\n",
       "      <td>12.0</td>\n",
       "      <td>11.83</td>\n",
       "    </tr>\n",
       "    <tr>\n",
       "      <th>Student_5</th>\n",
       "      <td>IDISC</td>\n",
       "      <td>9</td>\n",
       "      <td>15</td>\n",
       "      <td>1</td>\n",
       "      <td>8</td>\n",
       "      <td>4</td>\n",
       "      <td>0</td>\n",
       "      <td>12.0</td>\n",
       "      <td>4.5</td>\n",
       "      <td>2.0</td>\n",
       "      <td>6.17</td>\n",
       "    </tr>\n",
       "  </tbody>\n",
       "</table>\n",
       "</div>"
      ],
      "text/plain": [
       "           Class  Math_1  Math_2  Physics_1  Physics_2  Science_1  Science_2  \\\n",
       "Student                                                                        \n",
       "Student_1    IDL       6      14         15          3         14          0   \n",
       "Student_2  ISEOC       1      15         13          3          5          5   \n",
       "Student_3    IDL      13       8          9          7         15         12   \n",
       "Student_4    IDL      13      17          4         13         18          6   \n",
       "Student_5  IDISC       9      15          1          8          4          0   \n",
       "\n",
       "           Math  Physics  Science  Score  \n",
       "Student                                   \n",
       "Student_1  10.0      9.0      7.0   8.67  \n",
       "Student_2   8.0      8.0      5.0   7.00  \n",
       "Student_3  10.5      8.0     13.5  10.67  \n",
       "Student_4  15.0      8.5     12.0  11.83  \n",
       "Student_5  12.0      4.5      2.0   6.17  "
      ]
     },
     "execution_count": 61,
     "metadata": {},
     "output_type": "execute_result"
    }
   ],
   "source": [
    "students.head(5)"
   ]
  },
  {
   "cell_type": "code",
   "execution_count": 62,
   "metadata": {
    "execution": {
     "iopub.execute_input": "2023-10-15T16:20:21.311665Z",
     "iopub.status.busy": "2023-10-15T16:20:21.310749Z",
     "iopub.status.idle": "2023-10-15T16:20:21.328968Z",
     "shell.execute_reply": "2023-10-15T16:20:21.327529Z",
     "shell.execute_reply.started": "2023-10-15T16:20:21.311612Z"
    }
   },
   "outputs": [
    {
     "data": {
      "text/html": [
       "<div>\n",
       "<style scoped>\n",
       "    .dataframe tbody tr th:only-of-type {\n",
       "        vertical-align: middle;\n",
       "    }\n",
       "\n",
       "    .dataframe tbody tr th {\n",
       "        vertical-align: top;\n",
       "    }\n",
       "\n",
       "    .dataframe thead th {\n",
       "        text-align: right;\n",
       "    }\n",
       "</style>\n",
       "<table border=\"1\" class=\"dataframe\">\n",
       "  <thead>\n",
       "    <tr style=\"text-align: right;\">\n",
       "      <th></th>\n",
       "      <th>Class</th>\n",
       "      <th>Math_1</th>\n",
       "      <th>Math_2</th>\n",
       "      <th>Physics_1</th>\n",
       "      <th>Physics_2</th>\n",
       "      <th>Science_1</th>\n",
       "      <th>Science_2</th>\n",
       "      <th>Math</th>\n",
       "      <th>Physics</th>\n",
       "      <th>Science</th>\n",
       "      <th>Score</th>\n",
       "    </tr>\n",
       "    <tr>\n",
       "      <th>Student</th>\n",
       "      <th></th>\n",
       "      <th></th>\n",
       "      <th></th>\n",
       "      <th></th>\n",
       "      <th></th>\n",
       "      <th></th>\n",
       "      <th></th>\n",
       "      <th></th>\n",
       "      <th></th>\n",
       "      <th></th>\n",
       "      <th></th>\n",
       "    </tr>\n",
       "  </thead>\n",
       "  <tbody>\n",
       "    <tr>\n",
       "      <th>Student_24996</th>\n",
       "      <td>IDL</td>\n",
       "      <td>20</td>\n",
       "      <td>20</td>\n",
       "      <td>1</td>\n",
       "      <td>11</td>\n",
       "      <td>14</td>\n",
       "      <td>14</td>\n",
       "      <td>20.0</td>\n",
       "      <td>6.0</td>\n",
       "      <td>14.0</td>\n",
       "      <td>13.33</td>\n",
       "    </tr>\n",
       "    <tr>\n",
       "      <th>Student_24997</th>\n",
       "      <td>IDL</td>\n",
       "      <td>13</td>\n",
       "      <td>6</td>\n",
       "      <td>10</td>\n",
       "      <td>1</td>\n",
       "      <td>0</td>\n",
       "      <td>6</td>\n",
       "      <td>9.5</td>\n",
       "      <td>5.5</td>\n",
       "      <td>3.0</td>\n",
       "      <td>6.00</td>\n",
       "    </tr>\n",
       "    <tr>\n",
       "      <th>Student_24998</th>\n",
       "      <td>ISEOC</td>\n",
       "      <td>13</td>\n",
       "      <td>15</td>\n",
       "      <td>12</td>\n",
       "      <td>15</td>\n",
       "      <td>15</td>\n",
       "      <td>4</td>\n",
       "      <td>14.0</td>\n",
       "      <td>13.5</td>\n",
       "      <td>9.5</td>\n",
       "      <td>12.33</td>\n",
       "    </tr>\n",
       "    <tr>\n",
       "      <th>Student_24999</th>\n",
       "      <td>ISEOC</td>\n",
       "      <td>14</td>\n",
       "      <td>10</td>\n",
       "      <td>12</td>\n",
       "      <td>7</td>\n",
       "      <td>17</td>\n",
       "      <td>20</td>\n",
       "      <td>12.0</td>\n",
       "      <td>9.5</td>\n",
       "      <td>18.5</td>\n",
       "      <td>13.33</td>\n",
       "    </tr>\n",
       "    <tr>\n",
       "      <th>Student_25000</th>\n",
       "      <td>IDISC</td>\n",
       "      <td>10</td>\n",
       "      <td>4</td>\n",
       "      <td>19</td>\n",
       "      <td>18</td>\n",
       "      <td>5</td>\n",
       "      <td>12</td>\n",
       "      <td>7.0</td>\n",
       "      <td>18.5</td>\n",
       "      <td>8.5</td>\n",
       "      <td>11.33</td>\n",
       "    </tr>\n",
       "  </tbody>\n",
       "</table>\n",
       "</div>"
      ],
      "text/plain": [
       "               Class  Math_1  Math_2  Physics_1  Physics_2  Science_1  \\\n",
       "Student                                                                 \n",
       "Student_24996    IDL      20      20          1         11         14   \n",
       "Student_24997    IDL      13       6         10          1          0   \n",
       "Student_24998  ISEOC      13      15         12         15         15   \n",
       "Student_24999  ISEOC      14      10         12          7         17   \n",
       "Student_25000  IDISC      10       4         19         18          5   \n",
       "\n",
       "               Science_2  Math  Physics  Science  Score  \n",
       "Student                                                  \n",
       "Student_24996         14  20.0      6.0     14.0  13.33  \n",
       "Student_24997          6   9.5      5.5      3.0   6.00  \n",
       "Student_24998          4  14.0     13.5      9.5  12.33  \n",
       "Student_24999         20  12.0      9.5     18.5  13.33  \n",
       "Student_25000         12   7.0     18.5      8.5  11.33  "
      ]
     },
     "execution_count": 62,
     "metadata": {},
     "output_type": "execute_result"
    }
   ],
   "source": [
    "students.tail(5)"
   ]
  },
  {
   "cell_type": "code",
   "execution_count": 63,
   "metadata": {
    "execution": {
     "iopub.execute_input": "2023-10-15T16:20:21.832967Z",
     "iopub.status.busy": "2023-10-15T16:20:21.832599Z",
     "iopub.status.idle": "2023-10-15T16:20:21.841882Z",
     "shell.execute_reply": "2023-10-15T16:20:21.840350Z",
     "shell.execute_reply.started": "2023-10-15T16:20:21.832939Z"
    }
   },
   "outputs": [
    {
     "data": {
      "text/plain": [
       "Index(['Student_1', 'Student_2', 'Student_3', 'Student_4', 'Student_5',\n",
       "       'Student_6', 'Student_7', 'Student_8', 'Student_9', 'Student_10',\n",
       "       ...\n",
       "       'Student_24991', 'Student_24992', 'Student_24993', 'Student_24994',\n",
       "       'Student_24995', 'Student_24996', 'Student_24997', 'Student_24998',\n",
       "       'Student_24999', 'Student_25000'],\n",
       "      dtype='object', name='Student', length=25000)"
      ]
     },
     "execution_count": 63,
     "metadata": {},
     "output_type": "execute_result"
    }
   ],
   "source": [
    "students.index"
   ]
  },
  {
   "cell_type": "code",
   "execution_count": 107,
   "metadata": {},
   "outputs": [
    {
     "data": {
      "text/plain": [
       "Index(['Class', 'Math_1', 'Math_2', 'Physics_1', 'Physics_2', 'Science_1',\n",
       "       'Science_2', 'Math', 'Physics', 'Science', 'Score'],\n",
       "      dtype='object')"
      ]
     },
     "execution_count": 107,
     "metadata": {},
     "output_type": "execute_result"
    }
   ],
   "source": [
    "students.columns"
   ]
  },
  {
   "cell_type": "markdown",
   "metadata": {},
   "source": [
    "#### This is useful if you can come up with an index for the dataset which is better than the current one."
   ]
  },
  {
   "cell_type": "code",
   "execution_count": 64,
   "metadata": {
    "execution": {
     "iopub.execute_input": "2023-10-15T16:20:34.531165Z",
     "iopub.status.busy": "2023-10-15T16:20:34.530756Z",
     "iopub.status.idle": "2023-10-15T16:20:34.555246Z",
     "shell.execute_reply": "2023-10-15T16:20:34.553805Z",
     "shell.execute_reply.started": "2023-10-15T16:20:34.531136Z"
    }
   },
   "outputs": [
    {
     "data": {
      "text/html": [
       "<div>\n",
       "<style scoped>\n",
       "    .dataframe tbody tr th:only-of-type {\n",
       "        vertical-align: middle;\n",
       "    }\n",
       "\n",
       "    .dataframe tbody tr th {\n",
       "        vertical-align: top;\n",
       "    }\n",
       "\n",
       "    .dataframe thead th {\n",
       "        text-align: right;\n",
       "    }\n",
       "</style>\n",
       "<table border=\"1\" class=\"dataframe\">\n",
       "  <thead>\n",
       "    <tr style=\"text-align: right;\">\n",
       "      <th></th>\n",
       "      <th>Class</th>\n",
       "      <th>Math_1</th>\n",
       "      <th>Math_2</th>\n",
       "      <th>Physics_1</th>\n",
       "      <th>Physics_2</th>\n",
       "      <th>Science_1</th>\n",
       "      <th>Science_2</th>\n",
       "      <th>Physics</th>\n",
       "      <th>Science</th>\n",
       "      <th>Score</th>\n",
       "    </tr>\n",
       "    <tr>\n",
       "      <th>Math</th>\n",
       "      <th></th>\n",
       "      <th></th>\n",
       "      <th></th>\n",
       "      <th></th>\n",
       "      <th></th>\n",
       "      <th></th>\n",
       "      <th></th>\n",
       "      <th></th>\n",
       "      <th></th>\n",
       "      <th></th>\n",
       "    </tr>\n",
       "  </thead>\n",
       "  <tbody>\n",
       "    <tr>\n",
       "      <th>10.0</th>\n",
       "      <td>IDL</td>\n",
       "      <td>6</td>\n",
       "      <td>14</td>\n",
       "      <td>15</td>\n",
       "      <td>3</td>\n",
       "      <td>14</td>\n",
       "      <td>0</td>\n",
       "      <td>9.0</td>\n",
       "      <td>7.0</td>\n",
       "      <td>8.67</td>\n",
       "    </tr>\n",
       "    <tr>\n",
       "      <th>8.0</th>\n",
       "      <td>ISEOC</td>\n",
       "      <td>1</td>\n",
       "      <td>15</td>\n",
       "      <td>13</td>\n",
       "      <td>3</td>\n",
       "      <td>5</td>\n",
       "      <td>5</td>\n",
       "      <td>8.0</td>\n",
       "      <td>5.0</td>\n",
       "      <td>7.00</td>\n",
       "    </tr>\n",
       "    <tr>\n",
       "      <th>10.5</th>\n",
       "      <td>IDL</td>\n",
       "      <td>13</td>\n",
       "      <td>8</td>\n",
       "      <td>9</td>\n",
       "      <td>7</td>\n",
       "      <td>15</td>\n",
       "      <td>12</td>\n",
       "      <td>8.0</td>\n",
       "      <td>13.5</td>\n",
       "      <td>10.67</td>\n",
       "    </tr>\n",
       "    <tr>\n",
       "      <th>15.0</th>\n",
       "      <td>IDL</td>\n",
       "      <td>13</td>\n",
       "      <td>17</td>\n",
       "      <td>4</td>\n",
       "      <td>13</td>\n",
       "      <td>18</td>\n",
       "      <td>6</td>\n",
       "      <td>8.5</td>\n",
       "      <td>12.0</td>\n",
       "      <td>11.83</td>\n",
       "    </tr>\n",
       "    <tr>\n",
       "      <th>12.0</th>\n",
       "      <td>IDISC</td>\n",
       "      <td>9</td>\n",
       "      <td>15</td>\n",
       "      <td>1</td>\n",
       "      <td>8</td>\n",
       "      <td>4</td>\n",
       "      <td>0</td>\n",
       "      <td>4.5</td>\n",
       "      <td>2.0</td>\n",
       "      <td>6.17</td>\n",
       "    </tr>\n",
       "    <tr>\n",
       "      <th>...</th>\n",
       "      <td>...</td>\n",
       "      <td>...</td>\n",
       "      <td>...</td>\n",
       "      <td>...</td>\n",
       "      <td>...</td>\n",
       "      <td>...</td>\n",
       "      <td>...</td>\n",
       "      <td>...</td>\n",
       "      <td>...</td>\n",
       "      <td>...</td>\n",
       "    </tr>\n",
       "    <tr>\n",
       "      <th>20.0</th>\n",
       "      <td>IDL</td>\n",
       "      <td>20</td>\n",
       "      <td>20</td>\n",
       "      <td>1</td>\n",
       "      <td>11</td>\n",
       "      <td>14</td>\n",
       "      <td>14</td>\n",
       "      <td>6.0</td>\n",
       "      <td>14.0</td>\n",
       "      <td>13.33</td>\n",
       "    </tr>\n",
       "    <tr>\n",
       "      <th>9.5</th>\n",
       "      <td>IDL</td>\n",
       "      <td>13</td>\n",
       "      <td>6</td>\n",
       "      <td>10</td>\n",
       "      <td>1</td>\n",
       "      <td>0</td>\n",
       "      <td>6</td>\n",
       "      <td>5.5</td>\n",
       "      <td>3.0</td>\n",
       "      <td>6.00</td>\n",
       "    </tr>\n",
       "    <tr>\n",
       "      <th>14.0</th>\n",
       "      <td>ISEOC</td>\n",
       "      <td>13</td>\n",
       "      <td>15</td>\n",
       "      <td>12</td>\n",
       "      <td>15</td>\n",
       "      <td>15</td>\n",
       "      <td>4</td>\n",
       "      <td>13.5</td>\n",
       "      <td>9.5</td>\n",
       "      <td>12.33</td>\n",
       "    </tr>\n",
       "    <tr>\n",
       "      <th>12.0</th>\n",
       "      <td>ISEOC</td>\n",
       "      <td>14</td>\n",
       "      <td>10</td>\n",
       "      <td>12</td>\n",
       "      <td>7</td>\n",
       "      <td>17</td>\n",
       "      <td>20</td>\n",
       "      <td>9.5</td>\n",
       "      <td>18.5</td>\n",
       "      <td>13.33</td>\n",
       "    </tr>\n",
       "    <tr>\n",
       "      <th>7.0</th>\n",
       "      <td>IDISC</td>\n",
       "      <td>10</td>\n",
       "      <td>4</td>\n",
       "      <td>19</td>\n",
       "      <td>18</td>\n",
       "      <td>5</td>\n",
       "      <td>12</td>\n",
       "      <td>18.5</td>\n",
       "      <td>8.5</td>\n",
       "      <td>11.33</td>\n",
       "    </tr>\n",
       "  </tbody>\n",
       "</table>\n",
       "<p>25000 rows × 10 columns</p>\n",
       "</div>"
      ],
      "text/plain": [
       "      Class  Math_1  Math_2  Physics_1  Physics_2  Science_1  Science_2  \\\n",
       "Math                                                                      \n",
       "10.0    IDL       6      14         15          3         14          0   \n",
       "8.0   ISEOC       1      15         13          3          5          5   \n",
       "10.5    IDL      13       8          9          7         15         12   \n",
       "15.0    IDL      13      17          4         13         18          6   \n",
       "12.0  IDISC       9      15          1          8          4          0   \n",
       "...     ...     ...     ...        ...        ...        ...        ...   \n",
       "20.0    IDL      20      20          1         11         14         14   \n",
       "9.5     IDL      13       6         10          1          0          6   \n",
       "14.0  ISEOC      13      15         12         15         15          4   \n",
       "12.0  ISEOC      14      10         12          7         17         20   \n",
       "7.0   IDISC      10       4         19         18          5         12   \n",
       "\n",
       "      Physics  Science  Score  \n",
       "Math                           \n",
       "10.0      9.0      7.0   8.67  \n",
       "8.0       8.0      5.0   7.00  \n",
       "10.5      8.0     13.5  10.67  \n",
       "15.0      8.5     12.0  11.83  \n",
       "12.0      4.5      2.0   6.17  \n",
       "...       ...      ...    ...  \n",
       "20.0      6.0     14.0  13.33  \n",
       "9.5       5.5      3.0   6.00  \n",
       "14.0     13.5      9.5  12.33  \n",
       "12.0      9.5     18.5  13.33  \n",
       "7.0      18.5      8.5  11.33  \n",
       "\n",
       "[25000 rows x 10 columns]"
      ]
     },
     "execution_count": 64,
     "metadata": {},
     "output_type": "execute_result"
    }
   ],
   "source": [
    "students.set_index('Math')"
   ]
  },
  {
   "cell_type": "markdown",
   "metadata": {},
   "source": [
    "# III. Selecting "
   ]
  },
  {
   "cell_type": "markdown",
   "metadata": {},
   "source": [
    "## III.1. Selecting Series from DataFrames"
   ]
  },
  {
   "cell_type": "code",
   "execution_count": 65,
   "metadata": {
    "execution": {
     "iopub.execute_input": "2023-10-15T16:28:29.303886Z",
     "iopub.status.busy": "2023-10-15T16:28:29.301835Z",
     "iopub.status.idle": "2023-10-15T16:28:29.319719Z",
     "shell.execute_reply": "2023-10-15T16:28:29.318310Z",
     "shell.execute_reply.started": "2023-10-15T16:28:29.303802Z"
    }
   },
   "outputs": [
    {
     "data": {
      "text/plain": [
       "Student\n",
       "Student_1    10.0\n",
       "Student_2     8.0\n",
       "Student_3    10.5\n",
       "Student_4    15.0\n",
       "Student_5    12.0\n",
       "Name: Math, dtype: float64"
      ]
     },
     "execution_count": 65,
     "metadata": {},
     "output_type": "execute_result"
    }
   ],
   "source": [
    "students.Math.head(5)"
   ]
  },
  {
   "cell_type": "code",
   "execution_count": 66,
   "metadata": {
    "execution": {
     "iopub.execute_input": "2023-10-15T16:28:29.322489Z",
     "iopub.status.busy": "2023-10-15T16:28:29.322141Z",
     "iopub.status.idle": "2023-10-15T16:28:29.348870Z",
     "shell.execute_reply": "2023-10-15T16:28:29.347582Z",
     "shell.execute_reply.started": "2023-10-15T16:28:29.322460Z"
    }
   },
   "outputs": [
    {
     "data": {
      "text/plain": [
       "Student\n",
       "Student_24996    14.0\n",
       "Student_24997     3.0\n",
       "Student_24998     9.5\n",
       "Student_24999    18.5\n",
       "Student_25000     8.5\n",
       "Name: Science, dtype: float64"
      ]
     },
     "execution_count": 66,
     "metadata": {},
     "output_type": "execute_result"
    }
   ],
   "source": [
    "students['Science'].tail(5)"
   ]
  },
  {
   "cell_type": "code",
   "execution_count": 69,
   "metadata": {
    "execution": {
     "iopub.execute_input": "2023-10-15T16:28:29.351120Z",
     "iopub.status.busy": "2023-10-15T16:28:29.350779Z",
     "iopub.status.idle": "2023-10-15T16:28:29.365725Z",
     "shell.execute_reply": "2023-10-15T16:28:29.364652Z",
     "shell.execute_reply.started": "2023-10-15T16:28:29.351074Z"
    }
   },
   "outputs": [
    {
     "name": "stderr",
     "output_type": "stream",
     "text": [
      "/tmp/ipykernel_15539/2030041136.py:1: FutureWarning: Series.__getitem__ treating keys as positions is deprecated. In a future version, integer keys will always be treated as labels (consistent with DataFrame behavior). To access a value by position, use `ser.iloc[pos]`\n",
      "  students.Physics[10]\n"
     ]
    },
    {
     "data": {
      "text/plain": [
       "3.0"
      ]
     },
     "execution_count": 69,
     "metadata": {},
     "output_type": "execute_result"
    }
   ],
   "source": [
    "students.Physics[10]"
   ]
  },
  {
   "cell_type": "code",
   "execution_count": 22,
   "metadata": {
    "execution": {
     "iopub.execute_input": "2023-10-15T16:28:30.338991Z",
     "iopub.status.busy": "2023-10-15T16:28:30.338512Z",
     "iopub.status.idle": "2023-10-15T16:28:30.347404Z",
     "shell.execute_reply": "2023-10-15T16:28:30.346079Z",
     "shell.execute_reply.started": "2023-10-15T16:28:30.338952Z"
    }
   },
   "outputs": [
    {
     "name": "stderr",
     "output_type": "stream",
     "text": [
      "/tmp/ipykernel_15539/3448463596.py:1: FutureWarning: Series.__getitem__ treating keys as positions is deprecated. In a future version, integer keys will always be treated as labels (consistent with DataFrame behavior). To access a value by position, use `ser.iloc[pos]`\n",
      "  students['Score'][952]\n"
     ]
    },
    {
     "data": {
      "text/plain": [
       "8.83"
      ]
     },
     "execution_count": 22,
     "metadata": {},
     "output_type": "execute_result"
    }
   ],
   "source": [
    "students['Score'][952]"
   ]
  },
  {
   "cell_type": "markdown",
   "metadata": {},
   "source": [
    "## III.2. Index based selection "
   ]
  },
  {
   "cell_type": "markdown",
   "metadata": {},
   "source": [
    "#### Selecting data based on its numerical position in the dataframe with the iloc method.\n",
    "#### The first paramater is the row range and the second parameter is the column range.\n",
    "#### These parameters could be passed as Start:End operators or as a list containing indexes."
   ]
  },
  {
   "cell_type": "code",
   "execution_count": 75,
   "metadata": {
    "execution": {
     "iopub.execute_input": "2023-10-15T16:29:39.233065Z",
     "iopub.status.busy": "2023-10-15T16:29:39.232575Z",
     "iopub.status.idle": "2023-10-15T16:29:39.243338Z",
     "shell.execute_reply": "2023-10-15T16:29:39.242581Z",
     "shell.execute_reply.started": "2023-10-15T16:29:39.233032Z"
    }
   },
   "outputs": [
    {
     "data": {
      "text/plain": [
       "Class         IDL\n",
       "Math_1          5\n",
       "Math_2          3\n",
       "Physics_1       3\n",
       "Physics_2       3\n",
       "Science_1      13\n",
       "Science_2      20\n",
       "Math          4.0\n",
       "Physics       3.0\n",
       "Science      16.5\n",
       "Score        7.83\n",
       "Name: Student_11, dtype: object"
      ]
     },
     "execution_count": 75,
     "metadata": {},
     "output_type": "execute_result"
    }
   ],
   "source": [
    "# Select the 10th row of a DataFrame \n",
    "students.iloc[10]"
   ]
  },
  {
   "cell_type": "code",
   "execution_count": 76,
   "metadata": {
    "execution": {
     "iopub.execute_input": "2023-10-15T16:29:42.902472Z",
     "iopub.status.busy": "2023-10-15T16:29:42.900908Z",
     "iopub.status.idle": "2023-10-15T16:29:42.915980Z",
     "shell.execute_reply": "2023-10-15T16:29:42.914361Z",
     "shell.execute_reply.started": "2023-10-15T16:29:42.902404Z"
    }
   },
   "outputs": [
    {
     "data": {
      "text/plain": [
       "Student\n",
       "Student_1        10.0\n",
       "Student_2         8.0\n",
       "Student_3        10.5\n",
       "Student_4        15.0\n",
       "Student_5        12.0\n",
       "                 ... \n",
       "Student_24996    20.0\n",
       "Student_24997     9.5\n",
       "Student_24998    14.0\n",
       "Student_24999    12.0\n",
       "Student_25000     7.0\n",
       "Name: Math, Length: 25000, dtype: float64"
      ]
     },
     "execution_count": 76,
     "metadata": {},
     "output_type": "execute_result"
    }
   ],
   "source": [
    "# Select all the rows of the Math column\n",
    "students.Math.iloc[:]"
   ]
  },
  {
   "cell_type": "code",
   "execution_count": 77,
   "metadata": {
    "execution": {
     "iopub.execute_input": "2023-10-15T16:29:47.119575Z",
     "iopub.status.busy": "2023-10-15T16:29:47.119210Z",
     "iopub.status.idle": "2023-10-15T16:29:47.139124Z",
     "shell.execute_reply": "2023-10-15T16:29:47.137500Z",
     "shell.execute_reply.started": "2023-10-15T16:29:47.119548Z"
    }
   },
   "outputs": [
    {
     "data": {
      "text/html": [
       "<div>\n",
       "<style scoped>\n",
       "    .dataframe tbody tr th:only-of-type {\n",
       "        vertical-align: middle;\n",
       "    }\n",
       "\n",
       "    .dataframe tbody tr th {\n",
       "        vertical-align: top;\n",
       "    }\n",
       "\n",
       "    .dataframe thead th {\n",
       "        text-align: right;\n",
       "    }\n",
       "</style>\n",
       "<table border=\"1\" class=\"dataframe\">\n",
       "  <thead>\n",
       "    <tr style=\"text-align: right;\">\n",
       "      <th></th>\n",
       "      <th>Math</th>\n",
       "      <th>Physics</th>\n",
       "      <th>Science</th>\n",
       "      <th>Score</th>\n",
       "    </tr>\n",
       "    <tr>\n",
       "      <th>Student</th>\n",
       "      <th></th>\n",
       "      <th></th>\n",
       "      <th></th>\n",
       "      <th></th>\n",
       "    </tr>\n",
       "  </thead>\n",
       "  <tbody>\n",
       "    <tr>\n",
       "      <th>Student_351</th>\n",
       "      <td>11.5</td>\n",
       "      <td>10.0</td>\n",
       "      <td>7.5</td>\n",
       "      <td>9.67</td>\n",
       "    </tr>\n",
       "    <tr>\n",
       "      <th>Student_352</th>\n",
       "      <td>7.5</td>\n",
       "      <td>12.0</td>\n",
       "      <td>18.5</td>\n",
       "      <td>12.67</td>\n",
       "    </tr>\n",
       "    <tr>\n",
       "      <th>Student_353</th>\n",
       "      <td>7.0</td>\n",
       "      <td>10.0</td>\n",
       "      <td>9.5</td>\n",
       "      <td>8.83</td>\n",
       "    </tr>\n",
       "    <tr>\n",
       "      <th>Student_354</th>\n",
       "      <td>8.5</td>\n",
       "      <td>10.5</td>\n",
       "      <td>14.5</td>\n",
       "      <td>11.17</td>\n",
       "    </tr>\n",
       "    <tr>\n",
       "      <th>Student_355</th>\n",
       "      <td>3.5</td>\n",
       "      <td>10.5</td>\n",
       "      <td>14.5</td>\n",
       "      <td>9.50</td>\n",
       "    </tr>\n",
       "    <tr>\n",
       "      <th>Student_356</th>\n",
       "      <td>9.5</td>\n",
       "      <td>14.0</td>\n",
       "      <td>10.0</td>\n",
       "      <td>11.17</td>\n",
       "    </tr>\n",
       "  </tbody>\n",
       "</table>\n",
       "</div>"
      ],
      "text/plain": [
       "             Math  Physics  Science  Score\n",
       "Student                                   \n",
       "Student_351  11.5     10.0      7.5   9.67\n",
       "Student_352   7.5     12.0     18.5  12.67\n",
       "Student_353   7.0     10.0      9.5   8.83\n",
       "Student_354   8.5     10.5     14.5  11.17\n",
       "Student_355   3.5     10.5     14.5   9.50\n",
       "Student_356   9.5     14.0     10.0  11.17"
      ]
     },
     "execution_count": 77,
     "metadata": {},
     "output_type": "execute_result"
    }
   ],
   "source": [
    "students.iloc[350:356, [7, 8, 9, 10]] #Same as students.iloc[[350,..,356], [7, 8, 9, 10]] "
   ]
  },
  {
   "cell_type": "markdown",
   "metadata": {},
   "source": [
    "## III.3. Label based selection"
   ]
  },
  {
   "cell_type": "markdown",
   "metadata": {},
   "source": [
    "#### Similar to Index based selection with iloc but the second parameter used in loc is a list of column names instead of column indexes. "
   ]
  },
  {
   "cell_type": "code",
   "execution_count": 78,
   "metadata": {
    "execution": {
     "iopub.execute_input": "2023-10-15T16:13:12.423395Z",
     "iopub.status.busy": "2023-10-15T16:13:12.422557Z",
     "iopub.status.idle": "2023-10-15T16:13:12.443568Z",
     "shell.execute_reply": "2023-10-15T16:13:12.442422Z",
     "shell.execute_reply.started": "2023-10-15T16:13:12.423362Z"
    }
   },
   "outputs": [
    {
     "data": {
      "text/html": [
       "<div>\n",
       "<style scoped>\n",
       "    .dataframe tbody tr th:only-of-type {\n",
       "        vertical-align: middle;\n",
       "    }\n",
       "\n",
       "    .dataframe tbody tr th {\n",
       "        vertical-align: top;\n",
       "    }\n",
       "\n",
       "    .dataframe thead th {\n",
       "        text-align: right;\n",
       "    }\n",
       "</style>\n",
       "<table border=\"1\" class=\"dataframe\">\n",
       "  <thead>\n",
       "    <tr style=\"text-align: right;\">\n",
       "      <th></th>\n",
       "      <th>Math</th>\n",
       "      <th>Physics</th>\n",
       "      <th>Science</th>\n",
       "    </tr>\n",
       "    <tr>\n",
       "      <th>Student</th>\n",
       "      <th></th>\n",
       "      <th></th>\n",
       "      <th></th>\n",
       "    </tr>\n",
       "  </thead>\n",
       "  <tbody>\n",
       "    <tr>\n",
       "      <th>Student_1</th>\n",
       "      <td>10.0</td>\n",
       "      <td>9.0</td>\n",
       "      <td>7.0</td>\n",
       "    </tr>\n",
       "    <tr>\n",
       "      <th>Student_2</th>\n",
       "      <td>8.0</td>\n",
       "      <td>8.0</td>\n",
       "      <td>5.0</td>\n",
       "    </tr>\n",
       "    <tr>\n",
       "      <th>Student_3</th>\n",
       "      <td>10.5</td>\n",
       "      <td>8.0</td>\n",
       "      <td>13.5</td>\n",
       "    </tr>\n",
       "    <tr>\n",
       "      <th>Student_4</th>\n",
       "      <td>15.0</td>\n",
       "      <td>8.5</td>\n",
       "      <td>12.0</td>\n",
       "    </tr>\n",
       "    <tr>\n",
       "      <th>Student_5</th>\n",
       "      <td>12.0</td>\n",
       "      <td>4.5</td>\n",
       "      <td>2.0</td>\n",
       "    </tr>\n",
       "    <tr>\n",
       "      <th>...</th>\n",
       "      <td>...</td>\n",
       "      <td>...</td>\n",
       "      <td>...</td>\n",
       "    </tr>\n",
       "    <tr>\n",
       "      <th>Student_24996</th>\n",
       "      <td>20.0</td>\n",
       "      <td>6.0</td>\n",
       "      <td>14.0</td>\n",
       "    </tr>\n",
       "    <tr>\n",
       "      <th>Student_24997</th>\n",
       "      <td>9.5</td>\n",
       "      <td>5.5</td>\n",
       "      <td>3.0</td>\n",
       "    </tr>\n",
       "    <tr>\n",
       "      <th>Student_24998</th>\n",
       "      <td>14.0</td>\n",
       "      <td>13.5</td>\n",
       "      <td>9.5</td>\n",
       "    </tr>\n",
       "    <tr>\n",
       "      <th>Student_24999</th>\n",
       "      <td>12.0</td>\n",
       "      <td>9.5</td>\n",
       "      <td>18.5</td>\n",
       "    </tr>\n",
       "    <tr>\n",
       "      <th>Student_25000</th>\n",
       "      <td>7.0</td>\n",
       "      <td>18.5</td>\n",
       "      <td>8.5</td>\n",
       "    </tr>\n",
       "  </tbody>\n",
       "</table>\n",
       "<p>25000 rows × 3 columns</p>\n",
       "</div>"
      ],
      "text/plain": [
       "               Math  Physics  Science\n",
       "Student                              \n",
       "Student_1      10.0      9.0      7.0\n",
       "Student_2       8.0      8.0      5.0\n",
       "Student_3      10.5      8.0     13.5\n",
       "Student_4      15.0      8.5     12.0\n",
       "Student_5      12.0      4.5      2.0\n",
       "...             ...      ...      ...\n",
       "Student_24996  20.0      6.0     14.0\n",
       "Student_24997   9.5      5.5      3.0\n",
       "Student_24998  14.0     13.5      9.5\n",
       "Student_24999  12.0      9.5     18.5\n",
       "Student_25000   7.0     18.5      8.5\n",
       "\n",
       "[25000 rows x 3 columns]"
      ]
     },
     "execution_count": 78,
     "metadata": {},
     "output_type": "execute_result"
    }
   ],
   "source": [
    "students.loc[:, ['Math', 'Physics', 'Science']]"
   ]
  },
  {
   "cell_type": "markdown",
   "metadata": {},
   "source": [
    "## III.4. Conditional selection"
   ]
  },
  {
   "cell_type": "code",
   "execution_count": 79,
   "metadata": {
    "execution": {
     "iopub.execute_input": "2023-10-15T16:57:51.425041Z",
     "iopub.status.busy": "2023-10-15T16:57:51.423553Z",
     "iopub.status.idle": "2023-10-15T16:57:51.436902Z",
     "shell.execute_reply": "2023-10-15T16:57:51.435309Z",
     "shell.execute_reply.started": "2023-10-15T16:57:51.424972Z"
    }
   },
   "outputs": [
    {
     "data": {
      "text/plain": [
       "Student\n",
       "Student_1     True\n",
       "Student_2    False\n",
       "Student_3     True\n",
       "Student_4     True\n",
       "Student_5    False\n",
       "Name: Score, dtype: bool"
      ]
     },
     "execution_count": 79,
     "metadata": {},
     "output_type": "execute_result"
    }
   ],
   "source": [
    "students.iloc[0:5]['Score'] > 8"
   ]
  },
  {
   "cell_type": "code",
   "execution_count": 89,
   "metadata": {
    "execution": {
     "iopub.execute_input": "2023-10-15T16:57:52.806156Z",
     "iopub.status.busy": "2023-10-15T16:57:52.805127Z",
     "iopub.status.idle": "2023-10-15T16:57:52.825777Z",
     "shell.execute_reply": "2023-10-15T16:57:52.824831Z",
     "shell.execute_reply.started": "2023-10-15T16:57:52.806104Z"
    }
   },
   "outputs": [
    {
     "data": {
      "text/html": [
       "<div>\n",
       "<style scoped>\n",
       "    .dataframe tbody tr th:only-of-type {\n",
       "        vertical-align: middle;\n",
       "    }\n",
       "\n",
       "    .dataframe tbody tr th {\n",
       "        vertical-align: top;\n",
       "    }\n",
       "\n",
       "    .dataframe thead th {\n",
       "        text-align: right;\n",
       "    }\n",
       "</style>\n",
       "<table border=\"1\" class=\"dataframe\">\n",
       "  <thead>\n",
       "    <tr style=\"text-align: right;\">\n",
       "      <th></th>\n",
       "      <th>Class</th>\n",
       "      <th>Math_1</th>\n",
       "      <th>Math_2</th>\n",
       "      <th>Physics_1</th>\n",
       "      <th>Physics_2</th>\n",
       "      <th>Science_1</th>\n",
       "      <th>Science_2</th>\n",
       "      <th>Math</th>\n",
       "      <th>Physics</th>\n",
       "      <th>Science</th>\n",
       "      <th>Score</th>\n",
       "    </tr>\n",
       "    <tr>\n",
       "      <th>Student</th>\n",
       "      <th></th>\n",
       "      <th></th>\n",
       "      <th></th>\n",
       "      <th></th>\n",
       "      <th></th>\n",
       "      <th></th>\n",
       "      <th></th>\n",
       "      <th></th>\n",
       "      <th></th>\n",
       "      <th></th>\n",
       "      <th></th>\n",
       "    </tr>\n",
       "  </thead>\n",
       "  <tbody>\n",
       "    <tr>\n",
       "      <th>Student_53</th>\n",
       "      <td>IDISC</td>\n",
       "      <td>9</td>\n",
       "      <td>18</td>\n",
       "      <td>9</td>\n",
       "      <td>17</td>\n",
       "      <td>4</td>\n",
       "      <td>4</td>\n",
       "      <td>13.5</td>\n",
       "      <td>13.0</td>\n",
       "      <td>4.0</td>\n",
       "      <td>10.17</td>\n",
       "    </tr>\n",
       "    <tr>\n",
       "      <th>Student_157</th>\n",
       "      <td>ISEOC</td>\n",
       "      <td>17</td>\n",
       "      <td>9</td>\n",
       "      <td>6</td>\n",
       "      <td>20</td>\n",
       "      <td>3</td>\n",
       "      <td>20</td>\n",
       "      <td>13.0</td>\n",
       "      <td>13.0</td>\n",
       "      <td>11.5</td>\n",
       "      <td>12.50</td>\n",
       "    </tr>\n",
       "    <tr>\n",
       "      <th>Student_333</th>\n",
       "      <td>IDL</td>\n",
       "      <td>18</td>\n",
       "      <td>17</td>\n",
       "      <td>9</td>\n",
       "      <td>17</td>\n",
       "      <td>10</td>\n",
       "      <td>6</td>\n",
       "      <td>17.5</td>\n",
       "      <td>13.0</td>\n",
       "      <td>8.0</td>\n",
       "      <td>12.83</td>\n",
       "    </tr>\n",
       "    <tr>\n",
       "      <th>Student_539</th>\n",
       "      <td>ISEOC</td>\n",
       "      <td>18</td>\n",
       "      <td>5</td>\n",
       "      <td>7</td>\n",
       "      <td>19</td>\n",
       "      <td>7</td>\n",
       "      <td>15</td>\n",
       "      <td>11.5</td>\n",
       "      <td>13.0</td>\n",
       "      <td>11.0</td>\n",
       "      <td>11.83</td>\n",
       "    </tr>\n",
       "    <tr>\n",
       "      <th>Student_934</th>\n",
       "      <td>IDL</td>\n",
       "      <td>16</td>\n",
       "      <td>20</td>\n",
       "      <td>8</td>\n",
       "      <td>18</td>\n",
       "      <td>20</td>\n",
       "      <td>2</td>\n",
       "      <td>18.0</td>\n",
       "      <td>13.0</td>\n",
       "      <td>11.0</td>\n",
       "      <td>14.00</td>\n",
       "    </tr>\n",
       "  </tbody>\n",
       "</table>\n",
       "</div>"
      ],
      "text/plain": [
       "             Class  Math_1  Math_2  Physics_1  Physics_2  Science_1  \\\n",
       "Student                                                               \n",
       "Student_53   IDISC       9      18          9         17          4   \n",
       "Student_157  ISEOC      17       9          6         20          3   \n",
       "Student_333    IDL      18      17          9         17         10   \n",
       "Student_539  ISEOC      18       5          7         19          7   \n",
       "Student_934    IDL      16      20          8         18         20   \n",
       "\n",
       "             Science_2  Math  Physics  Science  Score  \n",
       "Student                                                \n",
       "Student_53           4  13.5     13.0      4.0  10.17  \n",
       "Student_157         20  13.0     13.0     11.5  12.50  \n",
       "Student_333          6  17.5     13.0      8.0  12.83  \n",
       "Student_539         15  11.5     13.0     11.0  11.83  \n",
       "Student_934          2  18.0     13.0     11.0  14.00  "
      ]
     },
     "execution_count": 89,
     "metadata": {},
     "output_type": "execute_result"
    }
   ],
   "source": [
    "students.loc[(students.Math > 9) &\n",
    "             (students.Physics == 13) &\n",
    "             (students.Science.notnull()) & #isnull\n",
    "             (students.Physics_1.isin(list(range(0,10))))\n",
    "            ].head(5)"
   ]
  },
  {
   "cell_type": "markdown",
   "metadata": {},
   "source": [
    "# IV. Assigning Data"
   ]
  },
  {
   "cell_type": "code",
   "execution_count": 29,
   "metadata": {
    "execution": {
     "iopub.execute_input": "2023-10-15T16:13:12.489734Z",
     "iopub.status.busy": "2023-10-15T16:13:12.489006Z",
     "iopub.status.idle": "2023-10-15T16:13:12.501358Z",
     "shell.execute_reply": "2023-10-15T16:13:12.500022Z",
     "shell.execute_reply.started": "2023-10-15T16:13:12.489696Z"
    }
   },
   "outputs": [],
   "source": [
    "# students.Math = students.Math.mean()"
   ]
  },
  {
   "cell_type": "markdown",
   "metadata": {},
   "source": [
    "# V. Summary Functions"
   ]
  },
  {
   "cell_type": "markdown",
   "metadata": {},
   "source": [
    "#### All of these functions can be used on Dataframes or Series alike."
   ]
  },
  {
   "cell_type": "code",
   "execution_count": 90,
   "metadata": {
    "execution": {
     "iopub.execute_input": "2023-10-15T16:13:12.520033Z",
     "iopub.status.busy": "2023-10-15T16:13:12.519667Z",
     "iopub.status.idle": "2023-10-15T16:13:12.561516Z",
     "shell.execute_reply": "2023-10-15T16:13:12.560352Z",
     "shell.execute_reply.started": "2023-10-15T16:13:12.520004Z"
    }
   },
   "outputs": [
    {
     "data": {
      "text/html": [
       "<div>\n",
       "<style scoped>\n",
       "    .dataframe tbody tr th:only-of-type {\n",
       "        vertical-align: middle;\n",
       "    }\n",
       "\n",
       "    .dataframe tbody tr th {\n",
       "        vertical-align: top;\n",
       "    }\n",
       "\n",
       "    .dataframe thead th {\n",
       "        text-align: right;\n",
       "    }\n",
       "</style>\n",
       "<table border=\"1\" class=\"dataframe\">\n",
       "  <thead>\n",
       "    <tr style=\"text-align: right;\">\n",
       "      <th></th>\n",
       "      <th>Math_1</th>\n",
       "      <th>Math_2</th>\n",
       "      <th>Physics_1</th>\n",
       "      <th>Physics_2</th>\n",
       "      <th>Science_1</th>\n",
       "      <th>Science_2</th>\n",
       "      <th>Math</th>\n",
       "      <th>Physics</th>\n",
       "      <th>Science</th>\n",
       "      <th>Score</th>\n",
       "    </tr>\n",
       "  </thead>\n",
       "  <tbody>\n",
       "    <tr>\n",
       "      <th>count</th>\n",
       "      <td>25000.000000</td>\n",
       "      <td>25000.000000</td>\n",
       "      <td>25000.000000</td>\n",
       "      <td>25000.00000</td>\n",
       "      <td>25000.00000</td>\n",
       "      <td>25000.000000</td>\n",
       "      <td>25000.000000</td>\n",
       "      <td>25000.000000</td>\n",
       "      <td>25000.000000</td>\n",
       "      <td>25000.000000</td>\n",
       "    </tr>\n",
       "    <tr>\n",
       "      <th>mean</th>\n",
       "      <td>9.967520</td>\n",
       "      <td>9.983720</td>\n",
       "      <td>10.017960</td>\n",
       "      <td>10.02404</td>\n",
       "      <td>9.96360</td>\n",
       "      <td>9.992000</td>\n",
       "      <td>9.975620</td>\n",
       "      <td>10.021000</td>\n",
       "      <td>9.977800</td>\n",
       "      <td>9.991499</td>\n",
       "    </tr>\n",
       "    <tr>\n",
       "      <th>std</th>\n",
       "      <td>6.066038</td>\n",
       "      <td>6.073013</td>\n",
       "      <td>6.036779</td>\n",
       "      <td>6.05628</td>\n",
       "      <td>6.06219</td>\n",
       "      <td>6.063864</td>\n",
       "      <td>4.294212</td>\n",
       "      <td>4.290274</td>\n",
       "      <td>4.283492</td>\n",
       "      <td>2.463287</td>\n",
       "    </tr>\n",
       "    <tr>\n",
       "      <th>min</th>\n",
       "      <td>0.000000</td>\n",
       "      <td>0.000000</td>\n",
       "      <td>0.000000</td>\n",
       "      <td>0.00000</td>\n",
       "      <td>0.00000</td>\n",
       "      <td>0.000000</td>\n",
       "      <td>0.000000</td>\n",
       "      <td>0.000000</td>\n",
       "      <td>0.000000</td>\n",
       "      <td>1.670000</td>\n",
       "    </tr>\n",
       "    <tr>\n",
       "      <th>25%</th>\n",
       "      <td>5.000000</td>\n",
       "      <td>5.000000</td>\n",
       "      <td>5.000000</td>\n",
       "      <td>5.00000</td>\n",
       "      <td>5.00000</td>\n",
       "      <td>5.000000</td>\n",
       "      <td>7.000000</td>\n",
       "      <td>7.000000</td>\n",
       "      <td>7.000000</td>\n",
       "      <td>8.330000</td>\n",
       "    </tr>\n",
       "    <tr>\n",
       "      <th>50%</th>\n",
       "      <td>10.000000</td>\n",
       "      <td>10.000000</td>\n",
       "      <td>10.000000</td>\n",
       "      <td>10.00000</td>\n",
       "      <td>10.00000</td>\n",
       "      <td>10.000000</td>\n",
       "      <td>10.000000</td>\n",
       "      <td>10.000000</td>\n",
       "      <td>10.000000</td>\n",
       "      <td>10.000000</td>\n",
       "    </tr>\n",
       "    <tr>\n",
       "      <th>75%</th>\n",
       "      <td>15.000000</td>\n",
       "      <td>15.000000</td>\n",
       "      <td>15.000000</td>\n",
       "      <td>15.00000</td>\n",
       "      <td>15.00000</td>\n",
       "      <td>15.000000</td>\n",
       "      <td>13.000000</td>\n",
       "      <td>13.000000</td>\n",
       "      <td>13.000000</td>\n",
       "      <td>11.670000</td>\n",
       "    </tr>\n",
       "    <tr>\n",
       "      <th>max</th>\n",
       "      <td>20.000000</td>\n",
       "      <td>20.000000</td>\n",
       "      <td>20.000000</td>\n",
       "      <td>20.00000</td>\n",
       "      <td>20.00000</td>\n",
       "      <td>20.000000</td>\n",
       "      <td>20.000000</td>\n",
       "      <td>20.000000</td>\n",
       "      <td>20.000000</td>\n",
       "      <td>19.000000</td>\n",
       "    </tr>\n",
       "  </tbody>\n",
       "</table>\n",
       "</div>"
      ],
      "text/plain": [
       "             Math_1        Math_2     Physics_1    Physics_2    Science_1  \\\n",
       "count  25000.000000  25000.000000  25000.000000  25000.00000  25000.00000   \n",
       "mean       9.967520      9.983720     10.017960     10.02404      9.96360   \n",
       "std        6.066038      6.073013      6.036779      6.05628      6.06219   \n",
       "min        0.000000      0.000000      0.000000      0.00000      0.00000   \n",
       "25%        5.000000      5.000000      5.000000      5.00000      5.00000   \n",
       "50%       10.000000     10.000000     10.000000     10.00000     10.00000   \n",
       "75%       15.000000     15.000000     15.000000     15.00000     15.00000   \n",
       "max       20.000000     20.000000     20.000000     20.00000     20.00000   \n",
       "\n",
       "          Science_2          Math       Physics       Science         Score  \n",
       "count  25000.000000  25000.000000  25000.000000  25000.000000  25000.000000  \n",
       "mean       9.992000      9.975620     10.021000      9.977800      9.991499  \n",
       "std        6.063864      4.294212      4.290274      4.283492      2.463287  \n",
       "min        0.000000      0.000000      0.000000      0.000000      1.670000  \n",
       "25%        5.000000      7.000000      7.000000      7.000000      8.330000  \n",
       "50%       10.000000     10.000000     10.000000     10.000000     10.000000  \n",
       "75%       15.000000     13.000000     13.000000     13.000000     11.670000  \n",
       "max       20.000000     20.000000     20.000000     20.000000     19.000000  "
      ]
     },
     "execution_count": 90,
     "metadata": {},
     "output_type": "execute_result"
    }
   ],
   "source": [
    "# High-level summary of the attributes of the given column# \n",
    "# Different output for strings ( output aware )\n",
    "students.describe()"
   ]
  },
  {
   "cell_type": "code",
   "execution_count": 91,
   "metadata": {
    "execution": {
     "iopub.execute_input": "2023-10-15T16:13:12.803783Z",
     "iopub.status.busy": "2023-10-15T16:13:12.803217Z",
     "iopub.status.idle": "2023-10-15T16:13:12.812026Z",
     "shell.execute_reply": "2023-10-15T16:13:12.811114Z",
     "shell.execute_reply.started": "2023-10-15T16:13:12.803746Z"
    }
   },
   "outputs": [
    {
     "data": {
      "text/plain": [
       "10.0"
      ]
     },
     "execution_count": 91,
     "metadata": {},
     "output_type": "execute_result"
    }
   ],
   "source": [
    "students.Math.median()"
   ]
  },
  {
   "cell_type": "code",
   "execution_count": 92,
   "metadata": {
    "execution": {
     "iopub.execute_input": "2023-10-15T16:13:12.814641Z",
     "iopub.status.busy": "2023-10-15T16:13:12.813974Z",
     "iopub.status.idle": "2023-10-15T16:13:12.826929Z",
     "shell.execute_reply": "2023-10-15T16:13:12.825756Z",
     "shell.execute_reply.started": "2023-10-15T16:13:12.814605Z"
    }
   },
   "outputs": [
    {
     "data": {
      "text/plain": [
       "10.021"
      ]
     },
     "execution_count": 92,
     "metadata": {},
     "output_type": "execute_result"
    }
   ],
   "source": [
    "students.Physics.mean()"
   ]
  },
  {
   "cell_type": "code",
   "execution_count": 95,
   "metadata": {
    "execution": {
     "iopub.execute_input": "2023-10-15T16:13:13.177871Z",
     "iopub.status.busy": "2023-10-15T16:13:13.177508Z",
     "iopub.status.idle": "2023-10-15T16:13:13.185029Z",
     "shell.execute_reply": "2023-10-15T16:13:13.184001Z",
     "shell.execute_reply.started": "2023-10-15T16:13:13.177844Z"
    }
   },
   "outputs": [
    {
     "data": {
      "text/plain": [
       "array([ 8.67,  7.  , 10.67, 11.83,  6.17, 11.67,  9.5 ,  7.5 ,  9.67,\n",
       "        8.17,  7.83, 10.33, 13.33, 10.17,  9.83, 12.17, 12.67, 10.  ,\n",
       "       14.17,  8.  , 12.5 , 11.  , 13.  ,  7.33, 11.17,  8.5 ,  3.83,\n",
       "       13.5 , 12.  ,  9.33, 13.67, 14.  ,  6.33,  6.  ,  8.83,  5.  ,\n",
       "       10.83, 13.17,  5.67, 11.5 , 12.83,  9.17,  8.33,  9.  , 15.33,\n",
       "        4.5 ,  7.17, 15.  , 11.33, 12.33, 10.5 ,  6.5 ,  4.33,  6.67,\n",
       "        3.33,  5.5 ,  4.67, 14.83, 15.17, 16.5 , 15.67,  7.67, 16.17,\n",
       "        6.83, 14.5 ,  5.17,  5.83, 13.83, 15.83, 14.67,  4.17,  4.83,\n",
       "       14.33,  5.33, 16.33,  3.67, 16.  , 16.67, 15.5 ,  4.  ,  3.17,\n",
       "        3.5 , 17.  , 17.17,  2.67, 18.17,  3.  , 17.33,  2.33, 17.5 ,\n",
       "       18.5 , 18.33, 17.83,  2.5 ,  1.67,  2.83, 18.67, 16.83, 19.  ,\n",
       "       18.  , 17.67,  2.  ])"
      ]
     },
     "execution_count": 95,
     "metadata": {},
     "output_type": "execute_result"
    }
   ],
   "source": [
    "students.Score.unique()"
   ]
  },
  {
   "cell_type": "code",
   "execution_count": 98,
   "metadata": {
    "execution": {
     "iopub.execute_input": "2023-10-15T16:13:13.188374Z",
     "iopub.status.busy": "2023-10-15T16:13:13.187013Z",
     "iopub.status.idle": "2023-10-15T16:13:13.214919Z",
     "shell.execute_reply": "2023-10-15T16:13:13.213584Z",
     "shell.execute_reply.started": "2023-10-15T16:13:13.188325Z"
    }
   },
   "outputs": [
    {
     "data": {
      "text/plain": [
       "Math\n",
       "1.0     174\n",
       "0.5     119\n",
       "19.5    100\n",
       "20.0     62\n",
       "0.0      52\n",
       "Name: count, dtype: int64"
      ]
     },
     "execution_count": 98,
     "metadata": {},
     "output_type": "execute_result"
    }
   ],
   "source": [
    "students.Math.value_counts().tail(5)"
   ]
  },
  {
   "cell_type": "markdown",
   "metadata": {},
   "source": [
    "## V.1. Maps"
   ]
  },
  {
   "cell_type": "markdown",
   "metadata": {},
   "source": [
    "#### They return new, transformed Series and DataFrames, respectively. \n",
    "#### They don't modify the original data they're called on."
   ]
  },
  {
   "cell_type": "code",
   "execution_count": 99,
   "metadata": {
    "execution": {
     "iopub.execute_input": "2023-10-15T16:13:13.217206Z",
     "iopub.status.busy": "2023-10-15T16:13:13.216660Z",
     "iopub.status.idle": "2023-10-15T16:13:13.231717Z",
     "shell.execute_reply": "2023-10-15T16:13:13.230534Z",
     "shell.execute_reply.started": "2023-10-15T16:13:13.217139Z"
    }
   },
   "outputs": [
    {
     "data": {
      "text/plain": [
       "Student\n",
       "Student_24996    22.0\n",
       "Student_24997    11.5\n",
       "Student_24998    16.0\n",
       "Student_24999    14.0\n",
       "Student_25000     9.0\n",
       "Name: Math, dtype: float64"
      ]
     },
     "execution_count": 99,
     "metadata": {},
     "output_type": "execute_result"
    }
   ],
   "source": [
    "students.Math.map(lambda mark: mark + 2 ).tail(5)"
   ]
  },
  {
   "cell_type": "markdown",
   "metadata": {},
   "source": [
    "#### The equivalent method if we want to transform a whole DataFrame by calling a custom method on each row."
   ]
  },
  {
   "cell_type": "code",
   "execution_count": 36,
   "metadata": {
    "execution": {
     "iopub.execute_input": "2023-10-15T16:13:13.234947Z",
     "iopub.status.busy": "2023-10-15T16:13:13.233933Z",
     "iopub.status.idle": "2023-10-15T16:13:13.293131Z",
     "shell.execute_reply": "2023-10-15T16:13:13.292049Z",
     "shell.execute_reply.started": "2023-10-15T16:13:13.234886Z"
    }
   },
   "outputs": [
    {
     "data": {
      "text/html": [
       "<div>\n",
       "<style scoped>\n",
       "    .dataframe tbody tr th:only-of-type {\n",
       "        vertical-align: middle;\n",
       "    }\n",
       "\n",
       "    .dataframe tbody tr th {\n",
       "        vertical-align: top;\n",
       "    }\n",
       "\n",
       "    .dataframe thead th {\n",
       "        text-align: right;\n",
       "    }\n",
       "</style>\n",
       "<table border=\"1\" class=\"dataframe\">\n",
       "  <thead>\n",
       "    <tr style=\"text-align: right;\">\n",
       "      <th></th>\n",
       "      <th>Class</th>\n",
       "      <th>Math_1</th>\n",
       "      <th>Math_2</th>\n",
       "      <th>Physics_1</th>\n",
       "      <th>Physics_2</th>\n",
       "      <th>Science_1</th>\n",
       "      <th>Science_2</th>\n",
       "      <th>Math</th>\n",
       "      <th>Physics</th>\n",
       "      <th>Science</th>\n",
       "      <th>Score</th>\n",
       "    </tr>\n",
       "    <tr>\n",
       "      <th>Student</th>\n",
       "      <th></th>\n",
       "      <th></th>\n",
       "      <th></th>\n",
       "      <th></th>\n",
       "      <th></th>\n",
       "      <th></th>\n",
       "      <th></th>\n",
       "      <th></th>\n",
       "      <th></th>\n",
       "      <th></th>\n",
       "      <th></th>\n",
       "    </tr>\n",
       "  </thead>\n",
       "  <tbody>\n",
       "    <tr>\n",
       "      <th>Student_1</th>\n",
       "      <td>IDL</td>\n",
       "      <td>6</td>\n",
       "      <td>14</td>\n",
       "      <td>15</td>\n",
       "      <td>3</td>\n",
       "      <td>14</td>\n",
       "      <td>0</td>\n",
       "      <td>10.0</td>\n",
       "      <td>9.0</td>\n",
       "      <td>7.0</td>\n",
       "      <td>8.67</td>\n",
       "    </tr>\n",
       "    <tr>\n",
       "      <th>Student_2</th>\n",
       "      <td>ISEOC</td>\n",
       "      <td>1</td>\n",
       "      <td>15</td>\n",
       "      <td>13</td>\n",
       "      <td>3</td>\n",
       "      <td>5</td>\n",
       "      <td>5</td>\n",
       "      <td>8.0</td>\n",
       "      <td>8.0</td>\n",
       "      <td>5.0</td>\n",
       "      <td>7.00</td>\n",
       "    </tr>\n",
       "    <tr>\n",
       "      <th>Student_3</th>\n",
       "      <td>IDL</td>\n",
       "      <td>13</td>\n",
       "      <td>8</td>\n",
       "      <td>9</td>\n",
       "      <td>7</td>\n",
       "      <td>15</td>\n",
       "      <td>12</td>\n",
       "      <td>10.5</td>\n",
       "      <td>8.0</td>\n",
       "      <td>13.5</td>\n",
       "      <td>10.67</td>\n",
       "    </tr>\n",
       "    <tr>\n",
       "      <th>Student_4</th>\n",
       "      <td>IDL</td>\n",
       "      <td>13</td>\n",
       "      <td>17</td>\n",
       "      <td>4</td>\n",
       "      <td>13</td>\n",
       "      <td>18</td>\n",
       "      <td>6</td>\n",
       "      <td>15.0</td>\n",
       "      <td>8.5</td>\n",
       "      <td>12.0</td>\n",
       "      <td>11.83</td>\n",
       "    </tr>\n",
       "    <tr>\n",
       "      <th>Student_5</th>\n",
       "      <td>IDISC</td>\n",
       "      <td>9</td>\n",
       "      <td>15</td>\n",
       "      <td>1</td>\n",
       "      <td>8</td>\n",
       "      <td>4</td>\n",
       "      <td>0</td>\n",
       "      <td>12.0</td>\n",
       "      <td>4.5</td>\n",
       "      <td>2.0</td>\n",
       "      <td>6.17</td>\n",
       "    </tr>\n",
       "    <tr>\n",
       "      <th>...</th>\n",
       "      <td>...</td>\n",
       "      <td>...</td>\n",
       "      <td>...</td>\n",
       "      <td>...</td>\n",
       "      <td>...</td>\n",
       "      <td>...</td>\n",
       "      <td>...</td>\n",
       "      <td>...</td>\n",
       "      <td>...</td>\n",
       "      <td>...</td>\n",
       "      <td>...</td>\n",
       "    </tr>\n",
       "    <tr>\n",
       "      <th>Student_24996</th>\n",
       "      <td>IDL</td>\n",
       "      <td>20</td>\n",
       "      <td>20</td>\n",
       "      <td>1</td>\n",
       "      <td>11</td>\n",
       "      <td>14</td>\n",
       "      <td>14</td>\n",
       "      <td>20.0</td>\n",
       "      <td>6.0</td>\n",
       "      <td>14.0</td>\n",
       "      <td>13.33</td>\n",
       "    </tr>\n",
       "    <tr>\n",
       "      <th>Student_24997</th>\n",
       "      <td>IDL</td>\n",
       "      <td>13</td>\n",
       "      <td>6</td>\n",
       "      <td>10</td>\n",
       "      <td>1</td>\n",
       "      <td>0</td>\n",
       "      <td>6</td>\n",
       "      <td>9.5</td>\n",
       "      <td>5.5</td>\n",
       "      <td>3.0</td>\n",
       "      <td>6.00</td>\n",
       "    </tr>\n",
       "    <tr>\n",
       "      <th>Student_24998</th>\n",
       "      <td>ISEOC</td>\n",
       "      <td>13</td>\n",
       "      <td>15</td>\n",
       "      <td>12</td>\n",
       "      <td>15</td>\n",
       "      <td>15</td>\n",
       "      <td>4</td>\n",
       "      <td>14.0</td>\n",
       "      <td>13.5</td>\n",
       "      <td>9.5</td>\n",
       "      <td>12.33</td>\n",
       "    </tr>\n",
       "    <tr>\n",
       "      <th>Student_24999</th>\n",
       "      <td>ISEOC</td>\n",
       "      <td>14</td>\n",
       "      <td>10</td>\n",
       "      <td>12</td>\n",
       "      <td>7</td>\n",
       "      <td>17</td>\n",
       "      <td>20</td>\n",
       "      <td>12.0</td>\n",
       "      <td>9.5</td>\n",
       "      <td>18.5</td>\n",
       "      <td>13.33</td>\n",
       "    </tr>\n",
       "    <tr>\n",
       "      <th>Student_25000</th>\n",
       "      <td>IDISC</td>\n",
       "      <td>10</td>\n",
       "      <td>4</td>\n",
       "      <td>19</td>\n",
       "      <td>18</td>\n",
       "      <td>5</td>\n",
       "      <td>12</td>\n",
       "      <td>7.0</td>\n",
       "      <td>18.5</td>\n",
       "      <td>8.5</td>\n",
       "      <td>11.33</td>\n",
       "    </tr>\n",
       "  </tbody>\n",
       "</table>\n",
       "<p>25000 rows × 11 columns</p>\n",
       "</div>"
      ],
      "text/plain": [
       "               Class  Math_1  Math_2  Physics_1  Physics_2  Science_1  \\\n",
       "Student                                                                 \n",
       "Student_1        IDL       6      14         15          3         14   \n",
       "Student_2      ISEOC       1      15         13          3          5   \n",
       "Student_3        IDL      13       8          9          7         15   \n",
       "Student_4        IDL      13      17          4         13         18   \n",
       "Student_5      IDISC       9      15          1          8          4   \n",
       "...              ...     ...     ...        ...        ...        ...   \n",
       "Student_24996    IDL      20      20          1         11         14   \n",
       "Student_24997    IDL      13       6         10          1          0   \n",
       "Student_24998  ISEOC      13      15         12         15         15   \n",
       "Student_24999  ISEOC      14      10         12          7         17   \n",
       "Student_25000  IDISC      10       4         19         18          5   \n",
       "\n",
       "               Science_2  Math  Physics  Science  Score  \n",
       "Student                                                  \n",
       "Student_1              0  10.0      9.0      7.0   8.67  \n",
       "Student_2              5   8.0      8.0      5.0   7.00  \n",
       "Student_3             12  10.5      8.0     13.5  10.67  \n",
       "Student_4              6  15.0      8.5     12.0  11.83  \n",
       "Student_5              0  12.0      4.5      2.0   6.17  \n",
       "...                  ...   ...      ...      ...    ...  \n",
       "Student_24996         14  20.0      6.0     14.0  13.33  \n",
       "Student_24997          6   9.5      5.5      3.0   6.00  \n",
       "Student_24998          4  14.0     13.5      9.5  12.33  \n",
       "Student_24999         20  12.0      9.5     18.5  13.33  \n",
       "Student_25000         12   7.0     18.5      8.5  11.33  \n",
       "\n",
       "[25000 rows x 11 columns]"
      ]
     },
     "execution_count": 36,
     "metadata": {},
     "output_type": "execute_result"
    }
   ],
   "source": [
    "def plus_deux(mark):\n",
    "    return mark\n",
    "students.apply(plus_deux, axis = 'columns')"
   ]
  },
  {
   "cell_type": "markdown",
   "metadata": {},
   "source": [
    "## V.2. Combining Series into one"
   ]
  },
  {
   "cell_type": "code",
   "execution_count": 37,
   "metadata": {
    "execution": {
     "iopub.execute_input": "2023-10-15T17:01:41.197070Z",
     "iopub.status.busy": "2023-10-15T17:01:41.196659Z",
     "iopub.status.idle": "2023-10-15T17:01:41.210647Z",
     "shell.execute_reply": "2023-10-15T17:01:41.209508Z",
     "shell.execute_reply.started": "2023-10-15T17:01:41.197041Z"
    }
   },
   "outputs": [
    {
     "data": {
      "text/plain": [
       "Student\n",
       "Student_1     True\n",
       "Student_2    False\n",
       "Student_3     True\n",
       "Student_4     True\n",
       "Student_5     True\n",
       "dtype: bool"
      ]
     },
     "execution_count": 37,
     "metadata": {},
     "output_type": "execute_result"
    }
   ],
   "source": [
    "(students.Math + 2 + students.Score > 20).head()"
   ]
  },
  {
   "cell_type": "markdown",
   "metadata": {},
   "source": [
    "## V.3. More Functions"
   ]
  },
  {
   "cell_type": "code",
   "execution_count": 103,
   "metadata": {
    "execution": {
     "iopub.execute_input": "2023-10-15T16:13:13.464355Z",
     "iopub.status.busy": "2023-10-15T16:13:13.462963Z",
     "iopub.status.idle": "2023-10-15T16:13:13.470303Z",
     "shell.execute_reply": "2023-10-15T16:13:13.468997Z",
     "shell.execute_reply.started": "2023-10-15T16:13:13.464312Z"
    }
   },
   "outputs": [
    {
     "data": {
      "text/plain": [
       "'Student_15693'"
      ]
     },
     "execution_count": 103,
     "metadata": {},
     "output_type": "execute_result"
    }
   ],
   "source": [
    "students.Score.idxmax()"
   ]
  },
  {
   "cell_type": "code",
   "execution_count": 101,
   "metadata": {
    "execution": {
     "iopub.execute_input": "2023-10-15T16:13:13.499992Z",
     "iopub.status.busy": "2023-10-15T16:13:13.499705Z",
     "iopub.status.idle": "2023-10-15T16:13:13.512240Z",
     "shell.execute_reply": "2023-10-15T16:13:13.511517Z",
     "shell.execute_reply.started": "2023-10-15T16:13:13.499969Z"
    }
   },
   "outputs": [
    {
     "data": {
      "text/plain": [
       "'Student_10029'"
      ]
     },
     "execution_count": 101,
     "metadata": {},
     "output_type": "execute_result"
    }
   ],
   "source": [
    "students.Score.idxmin()"
   ]
  },
  {
   "cell_type": "code",
   "execution_count": 106,
   "metadata": {},
   "outputs": [
    {
     "data": {
      "text/html": [
       "<div>\n",
       "<style scoped>\n",
       "    .dataframe tbody tr th:only-of-type {\n",
       "        vertical-align: middle;\n",
       "    }\n",
       "\n",
       "    .dataframe tbody tr th {\n",
       "        vertical-align: top;\n",
       "    }\n",
       "\n",
       "    .dataframe thead th {\n",
       "        text-align: right;\n",
       "    }\n",
       "</style>\n",
       "<table border=\"1\" class=\"dataframe\">\n",
       "  <thead>\n",
       "    <tr style=\"text-align: right;\">\n",
       "      <th></th>\n",
       "      <th>Class</th>\n",
       "      <th>Math_1</th>\n",
       "      <th>Math_2</th>\n",
       "      <th>Physics_1</th>\n",
       "      <th>Physics_2</th>\n",
       "      <th>Science_1</th>\n",
       "      <th>Science_2</th>\n",
       "      <th>Math</th>\n",
       "      <th>Physics</th>\n",
       "      <th>Science</th>\n",
       "      <th>Score</th>\n",
       "    </tr>\n",
       "    <tr>\n",
       "      <th>Student</th>\n",
       "      <th></th>\n",
       "      <th></th>\n",
       "      <th></th>\n",
       "      <th></th>\n",
       "      <th></th>\n",
       "      <th></th>\n",
       "      <th></th>\n",
       "      <th></th>\n",
       "      <th></th>\n",
       "      <th></th>\n",
       "      <th></th>\n",
       "    </tr>\n",
       "  </thead>\n",
       "  <tbody>\n",
       "    <tr>\n",
       "      <th>Student_533</th>\n",
       "      <td>IDL</td>\n",
       "      <td>20</td>\n",
       "      <td>20</td>\n",
       "      <td>12</td>\n",
       "      <td>17</td>\n",
       "      <td>8</td>\n",
       "      <td>8</td>\n",
       "      <td>20.0</td>\n",
       "      <td>14.5</td>\n",
       "      <td>8.0</td>\n",
       "      <td>14.17</td>\n",
       "    </tr>\n",
       "    <tr>\n",
       "      <th>Student_1197</th>\n",
       "      <td>ISEOC</td>\n",
       "      <td>20</td>\n",
       "      <td>20</td>\n",
       "      <td>5</td>\n",
       "      <td>18</td>\n",
       "      <td>19</td>\n",
       "      <td>18</td>\n",
       "      <td>20.0</td>\n",
       "      <td>11.5</td>\n",
       "      <td>18.5</td>\n",
       "      <td>16.67</td>\n",
       "    </tr>\n",
       "    <tr>\n",
       "      <th>Student_1972</th>\n",
       "      <td>IDL</td>\n",
       "      <td>20</td>\n",
       "      <td>20</td>\n",
       "      <td>14</td>\n",
       "      <td>1</td>\n",
       "      <td>19</td>\n",
       "      <td>2</td>\n",
       "      <td>20.0</td>\n",
       "      <td>7.5</td>\n",
       "      <td>10.5</td>\n",
       "      <td>12.67</td>\n",
       "    </tr>\n",
       "    <tr>\n",
       "      <th>Student_2668</th>\n",
       "      <td>IDISC</td>\n",
       "      <td>20</td>\n",
       "      <td>20</td>\n",
       "      <td>14</td>\n",
       "      <td>17</td>\n",
       "      <td>17</td>\n",
       "      <td>4</td>\n",
       "      <td>20.0</td>\n",
       "      <td>15.5</td>\n",
       "      <td>10.5</td>\n",
       "      <td>15.33</td>\n",
       "    </tr>\n",
       "    <tr>\n",
       "      <th>Student_3397</th>\n",
       "      <td>IDL</td>\n",
       "      <td>20</td>\n",
       "      <td>20</td>\n",
       "      <td>10</td>\n",
       "      <td>19</td>\n",
       "      <td>13</td>\n",
       "      <td>5</td>\n",
       "      <td>20.0</td>\n",
       "      <td>14.5</td>\n",
       "      <td>9.0</td>\n",
       "      <td>14.50</td>\n",
       "    </tr>\n",
       "  </tbody>\n",
       "</table>\n",
       "</div>"
      ],
      "text/plain": [
       "              Class  Math_1  Math_2  Physics_1  Physics_2  Science_1  \\\n",
       "Student                                                                \n",
       "Student_533     IDL      20      20         12         17          8   \n",
       "Student_1197  ISEOC      20      20          5         18         19   \n",
       "Student_1972    IDL      20      20         14          1         19   \n",
       "Student_2668  IDISC      20      20         14         17         17   \n",
       "Student_3397    IDL      20      20         10         19         13   \n",
       "\n",
       "              Science_2  Math  Physics  Science  Score  \n",
       "Student                                                 \n",
       "Student_533           8  20.0     14.5      8.0  14.17  \n",
       "Student_1197         18  20.0     11.5     18.5  16.67  \n",
       "Student_1972          2  20.0      7.5     10.5  12.67  \n",
       "Student_2668          4  20.0     15.5     10.5  15.33  \n",
       "Student_3397          5  20.0     14.5      9.0  14.50  "
      ]
     },
     "execution_count": 106,
     "metadata": {},
     "output_type": "execute_result"
    }
   ],
   "source": [
    "students.loc[ students.Math == students.Math.max() ].head(5)"
   ]
  },
  {
   "cell_type": "code",
   "execution_count": 41,
   "metadata": {
    "execution": {
     "iopub.execute_input": "2023-10-15T16:13:13.513914Z",
     "iopub.status.busy": "2023-10-15T16:13:13.513609Z",
     "iopub.status.idle": "2023-10-15T16:13:13.526489Z",
     "shell.execute_reply": "2023-10-15T16:13:13.525352Z",
     "shell.execute_reply.started": "2023-10-15T16:13:13.513888Z"
    }
   },
   "outputs": [
    {
     "data": {
      "text/plain": [
       "20.0"
      ]
     },
     "execution_count": 41,
     "metadata": {},
     "output_type": "execute_result"
    }
   ],
   "source": [
    "students.Science.max()"
   ]
  },
  {
   "cell_type": "code",
   "execution_count": 42,
   "metadata": {
    "execution": {
     "iopub.execute_input": "2023-10-15T16:13:13.529672Z",
     "iopub.status.busy": "2023-10-15T16:13:13.528961Z",
     "iopub.status.idle": "2023-10-15T16:13:13.543128Z",
     "shell.execute_reply": "2023-10-15T16:13:13.541927Z",
     "shell.execute_reply.started": "2023-10-15T16:13:13.529622Z"
    }
   },
   "outputs": [
    {
     "data": {
      "text/plain": [
       "Student\n",
       "Student_1         9.0\n",
       "Student_2         8.0\n",
       "Student_3         8.0\n",
       "Student_4         8.5\n",
       "Student_5         4.5\n",
       "                 ... \n",
       "Student_24996     6.0\n",
       "Student_24997     5.5\n",
       "Student_24998    13.5\n",
       "Student_24999     9.5\n",
       "Student_25000    18.5\n",
       "Name: Physics, Length: 25000, dtype: float64"
      ]
     },
     "execution_count": 42,
     "metadata": {},
     "output_type": "execute_result"
    }
   ],
   "source": [
    "students.Physics.abs()"
   ]
  },
  {
   "cell_type": "markdown",
   "metadata": {},
   "source": [
    "# VI. Grouping and Sorting"
   ]
  },
  {
   "cell_type": "markdown",
   "metadata": {},
   "source": [
    "## VI.1.  Groupwise analysis\n"
   ]
  },
  {
   "cell_type": "code",
   "execution_count": 112,
   "metadata": {
    "execution": {
     "iopub.execute_input": "2023-10-15T16:13:13.628129Z",
     "iopub.status.busy": "2023-10-15T16:13:13.627209Z",
     "iopub.status.idle": "2023-10-15T16:13:13.646513Z",
     "shell.execute_reply": "2023-10-15T16:13:13.645431Z",
     "shell.execute_reply.started": "2023-10-15T16:13:13.628085Z"
    }
   },
   "outputs": [
    {
     "data": {
      "text/plain": [
       "Class\n",
       "IDISC    8384\n",
       "IDL      8167\n",
       "ISEOC    8449\n",
       "Name: Score, dtype: int64"
      ]
     },
     "execution_count": 112,
     "metadata": {},
     "output_type": "execute_result"
    }
   ],
   "source": [
    "students.groupby('Class').Score.count()"
   ]
  },
  {
   "cell_type": "code",
   "execution_count": 113,
   "metadata": {},
   "outputs": [
    {
     "data": {
      "text/plain": [
       "Score\n",
       "9.67     685\n",
       "10.17    676\n",
       "10.00    675\n",
       "9.33     675\n",
       "10.50    671\n",
       "Name: count, dtype: int64"
      ]
     },
     "execution_count": 113,
     "metadata": {},
     "output_type": "execute_result"
    }
   ],
   "source": [
    "students.Score.value_counts().head(5)"
   ]
  },
  {
   "cell_type": "code",
   "execution_count": 114,
   "metadata": {
    "execution": {
     "iopub.execute_input": "2023-10-15T16:13:13.649400Z",
     "iopub.status.busy": "2023-10-15T16:13:13.648727Z",
     "iopub.status.idle": "2023-10-15T16:13:13.670918Z",
     "shell.execute_reply": "2023-10-15T16:13:13.669743Z",
     "shell.execute_reply.started": "2023-10-15T16:13:13.649360Z"
    }
   },
   "outputs": [
    {
     "data": {
      "text/plain": [
       "Class\n",
       "IDISC    20.0\n",
       "IDL      20.0\n",
       "ISEOC    20.0\n",
       "Name: Math, dtype: float64"
      ]
     },
     "execution_count": 114,
     "metadata": {},
     "output_type": "execute_result"
    }
   ],
   "source": [
    "students.groupby('Class').Math.max()"
   ]
  },
  {
   "cell_type": "code",
   "execution_count": 118,
   "metadata": {
    "execution": {
     "iopub.execute_input": "2023-10-15T16:13:13.673637Z",
     "iopub.status.busy": "2023-10-15T16:13:13.672885Z",
     "iopub.status.idle": "2023-10-15T16:13:13.706157Z",
     "shell.execute_reply": "2023-10-15T16:13:13.705088Z",
     "shell.execute_reply.started": "2023-10-15T16:13:13.673598Z"
    }
   },
   "outputs": [
    {
     "data": {
      "text/plain": [
       "Class  Math\n",
       "IDISC  0.0     1.5\n",
       "       0.5     2.0\n",
       "       1.0     4.0\n",
       "       1.5     1.0\n",
       "       2.0     1.5\n",
       "              ... \n",
       "ISEOC  18.0    1.5\n",
       "       18.5    1.0\n",
       "       19.0    0.0\n",
       "       19.5    1.5\n",
       "       20.0    1.0\n",
       "Name: Physics, Length: 123, dtype: float64"
      ]
     },
     "execution_count": 118,
     "metadata": {},
     "output_type": "execute_result"
    }
   ],
   "source": [
    "# We can also group by multiple columns\n",
    "students.groupby(['Class', 'Math']).Physics.min()"
   ]
  },
  {
   "cell_type": "code",
   "execution_count": 122,
   "metadata": {
    "execution": {
     "iopub.execute_input": "2023-10-15T16:13:13.727146Z",
     "iopub.status.busy": "2023-10-15T16:13:13.725728Z",
     "iopub.status.idle": "2023-10-15T16:13:13.747869Z",
     "shell.execute_reply": "2023-10-15T16:13:13.746531Z",
     "shell.execute_reply.started": "2023-10-15T16:13:13.727074Z"
    }
   },
   "outputs": [
    {
     "name": "stderr",
     "output_type": "stream",
     "text": [
      "/tmp/ipykernel_15539/71011373.py:2: FutureWarning: The provided callable <built-in function max> is currently using SeriesGroupBy.max. In a future version of pandas, the provided callable will be used directly. To keep current behavior pass the string \"max\" instead.\n",
      "  students.groupby('Class').Score.agg([len, max, min])\n",
      "/tmp/ipykernel_15539/71011373.py:2: FutureWarning: The provided callable <built-in function min> is currently using SeriesGroupBy.min. In a future version of pandas, the provided callable will be used directly. To keep current behavior pass the string \"min\" instead.\n",
      "  students.groupby('Class').Score.agg([len, max, min])\n"
     ]
    },
    {
     "data": {
      "text/html": [
       "<div>\n",
       "<style scoped>\n",
       "    .dataframe tbody tr th:only-of-type {\n",
       "        vertical-align: middle;\n",
       "    }\n",
       "\n",
       "    .dataframe tbody tr th {\n",
       "        vertical-align: top;\n",
       "    }\n",
       "\n",
       "    .dataframe thead th {\n",
       "        text-align: right;\n",
       "    }\n",
       "</style>\n",
       "<table border=\"1\" class=\"dataframe\">\n",
       "  <thead>\n",
       "    <tr style=\"text-align: right;\">\n",
       "      <th></th>\n",
       "      <th>len</th>\n",
       "      <th>max</th>\n",
       "      <th>min</th>\n",
       "    </tr>\n",
       "    <tr>\n",
       "      <th>Class</th>\n",
       "      <th></th>\n",
       "      <th></th>\n",
       "      <th></th>\n",
       "    </tr>\n",
       "  </thead>\n",
       "  <tbody>\n",
       "    <tr>\n",
       "      <th>IDISC</th>\n",
       "      <td>8384</td>\n",
       "      <td>18.67</td>\n",
       "      <td>1.67</td>\n",
       "    </tr>\n",
       "    <tr>\n",
       "      <th>IDL</th>\n",
       "      <td>8167</td>\n",
       "      <td>18.67</td>\n",
       "      <td>2.00</td>\n",
       "    </tr>\n",
       "    <tr>\n",
       "      <th>ISEOC</th>\n",
       "      <td>8449</td>\n",
       "      <td>19.00</td>\n",
       "      <td>2.50</td>\n",
       "    </tr>\n",
       "  </tbody>\n",
       "</table>\n",
       "</div>"
      ],
      "text/plain": [
       "        len    max   min\n",
       "Class                   \n",
       "IDISC  8384  18.67  1.67\n",
       "IDL    8167  18.67  2.00\n",
       "ISEOC  8449  19.00  2.50"
      ]
     },
     "execution_count": 122,
     "metadata": {},
     "output_type": "execute_result"
    }
   ],
   "source": [
    "# Run a bunch of different functions on your DataFrame simultaneously.\n",
    "students.groupby('Class').Score.agg([len, max, min])"
   ]
  },
  {
   "cell_type": "markdown",
   "metadata": {},
   "source": [
    "## VI.2. Multi-indexes"
   ]
  },
  {
   "cell_type": "markdown",
   "metadata": {},
   "source": [
    "#### A multi-index differs from a regular index in that it has multiple levels.\n",
    "#### pandas.core.indexes.multi.MultiIndex\n"
   ]
  },
  {
   "cell_type": "markdown",
   "metadata": {},
   "source": [
    "#### Multi-indices have several methods for dealing with their tiered structure which are absent for single-level indices. They also require two levels of labels to retrieve a value. "
   ]
  },
  {
   "cell_type": "markdown",
   "metadata": {},
   "source": [
    "## VI.3. Sorting"
   ]
  },
  {
   "cell_type": "code",
   "execution_count": 124,
   "metadata": {
    "execution": {
     "iopub.execute_input": "2023-10-15T16:13:13.759159Z",
     "iopub.status.busy": "2023-10-15T16:13:13.757660Z",
     "iopub.status.idle": "2023-10-15T16:13:13.779553Z",
     "shell.execute_reply": "2023-10-15T16:13:13.778433Z",
     "shell.execute_reply.started": "2023-10-15T16:13:13.759099Z"
    }
   },
   "outputs": [
    {
     "data": {
      "text/html": [
       "<div>\n",
       "<style scoped>\n",
       "    .dataframe tbody tr th:only-of-type {\n",
       "        vertical-align: middle;\n",
       "    }\n",
       "\n",
       "    .dataframe tbody tr th {\n",
       "        vertical-align: top;\n",
       "    }\n",
       "\n",
       "    .dataframe thead th {\n",
       "        text-align: right;\n",
       "    }\n",
       "</style>\n",
       "<table border=\"1\" class=\"dataframe\">\n",
       "  <thead>\n",
       "    <tr style=\"text-align: right;\">\n",
       "      <th></th>\n",
       "      <th>Class</th>\n",
       "      <th>Math_1</th>\n",
       "      <th>Math_2</th>\n",
       "      <th>Physics_1</th>\n",
       "      <th>Physics_2</th>\n",
       "      <th>Science_1</th>\n",
       "      <th>Science_2</th>\n",
       "      <th>Math</th>\n",
       "      <th>Physics</th>\n",
       "      <th>Science</th>\n",
       "      <th>Score</th>\n",
       "    </tr>\n",
       "    <tr>\n",
       "      <th>Student</th>\n",
       "      <th></th>\n",
       "      <th></th>\n",
       "      <th></th>\n",
       "      <th></th>\n",
       "      <th></th>\n",
       "      <th></th>\n",
       "      <th></th>\n",
       "      <th></th>\n",
       "      <th></th>\n",
       "      <th></th>\n",
       "      <th></th>\n",
       "    </tr>\n",
       "  </thead>\n",
       "  <tbody>\n",
       "    <tr>\n",
       "      <th>Student_10029</th>\n",
       "      <td>IDISC</td>\n",
       "      <td>0</td>\n",
       "      <td>0</td>\n",
       "      <td>3</td>\n",
       "      <td>3</td>\n",
       "      <td>3</td>\n",
       "      <td>1</td>\n",
       "      <td>0.0</td>\n",
       "      <td>3.0</td>\n",
       "      <td>2.0</td>\n",
       "      <td>1.67</td>\n",
       "    </tr>\n",
       "    <tr>\n",
       "      <th>Student_20536</th>\n",
       "      <td>IDL</td>\n",
       "      <td>5</td>\n",
       "      <td>4</td>\n",
       "      <td>0</td>\n",
       "      <td>1</td>\n",
       "      <td>0</td>\n",
       "      <td>2</td>\n",
       "      <td>4.5</td>\n",
       "      <td>0.5</td>\n",
       "      <td>1.0</td>\n",
       "      <td>2.00</td>\n",
       "    </tr>\n",
       "    <tr>\n",
       "      <th>Student_4606</th>\n",
       "      <td>IDISC</td>\n",
       "      <td>4</td>\n",
       "      <td>1</td>\n",
       "      <td>4</td>\n",
       "      <td>0</td>\n",
       "      <td>3</td>\n",
       "      <td>2</td>\n",
       "      <td>2.5</td>\n",
       "      <td>2.0</td>\n",
       "      <td>2.5</td>\n",
       "      <td>2.33</td>\n",
       "    </tr>\n",
       "    <tr>\n",
       "      <th>Student_19547</th>\n",
       "      <td>IDL</td>\n",
       "      <td>3</td>\n",
       "      <td>9</td>\n",
       "      <td>1</td>\n",
       "      <td>0</td>\n",
       "      <td>2</td>\n",
       "      <td>0</td>\n",
       "      <td>6.0</td>\n",
       "      <td>0.5</td>\n",
       "      <td>1.0</td>\n",
       "      <td>2.50</td>\n",
       "    </tr>\n",
       "    <tr>\n",
       "      <th>Student_21392</th>\n",
       "      <td>IDISC</td>\n",
       "      <td>1</td>\n",
       "      <td>0</td>\n",
       "      <td>2</td>\n",
       "      <td>4</td>\n",
       "      <td>7</td>\n",
       "      <td>1</td>\n",
       "      <td>0.5</td>\n",
       "      <td>3.0</td>\n",
       "      <td>4.0</td>\n",
       "      <td>2.50</td>\n",
       "    </tr>\n",
       "  </tbody>\n",
       "</table>\n",
       "</div>"
      ],
      "text/plain": [
       "               Class  Math_1  Math_2  Physics_1  Physics_2  Science_1  \\\n",
       "Student                                                                 \n",
       "Student_10029  IDISC       0       0          3          3          3   \n",
       "Student_20536    IDL       5       4          0          1          0   \n",
       "Student_4606   IDISC       4       1          4          0          3   \n",
       "Student_19547    IDL       3       9          1          0          2   \n",
       "Student_21392  IDISC       1       0          2          4          7   \n",
       "\n",
       "               Science_2  Math  Physics  Science  Score  \n",
       "Student                                                  \n",
       "Student_10029          1   0.0      3.0      2.0   1.67  \n",
       "Student_20536          2   4.5      0.5      1.0   2.00  \n",
       "Student_4606           2   2.5      2.0      2.5   2.33  \n",
       "Student_19547          0   6.0      0.5      1.0   2.50  \n",
       "Student_21392          1   0.5      3.0      4.0   2.50  "
      ]
     },
     "execution_count": 124,
     "metadata": {},
     "output_type": "execute_result"
    }
   ],
   "source": [
    "students.sort_values(by = 'Score', ascending = True).head()"
   ]
  },
  {
   "cell_type": "code",
   "execution_count": 125,
   "metadata": {
    "execution": {
     "iopub.execute_input": "2023-10-15T16:13:13.782831Z",
     "iopub.status.busy": "2023-10-15T16:13:13.782474Z",
     "iopub.status.idle": "2023-10-15T16:13:13.816166Z",
     "shell.execute_reply": "2023-10-15T16:13:13.814623Z",
     "shell.execute_reply.started": "2023-10-15T16:13:13.782804Z"
    }
   },
   "outputs": [
    {
     "data": {
      "text/html": [
       "<div>\n",
       "<style scoped>\n",
       "    .dataframe tbody tr th:only-of-type {\n",
       "        vertical-align: middle;\n",
       "    }\n",
       "\n",
       "    .dataframe tbody tr th {\n",
       "        vertical-align: top;\n",
       "    }\n",
       "\n",
       "    .dataframe thead th {\n",
       "        text-align: right;\n",
       "    }\n",
       "</style>\n",
       "<table border=\"1\" class=\"dataframe\">\n",
       "  <thead>\n",
       "    <tr style=\"text-align: right;\">\n",
       "      <th></th>\n",
       "      <th>Class</th>\n",
       "      <th>Math_1</th>\n",
       "      <th>Math_2</th>\n",
       "      <th>Physics_1</th>\n",
       "      <th>Physics_2</th>\n",
       "      <th>Science_1</th>\n",
       "      <th>Science_2</th>\n",
       "      <th>Math</th>\n",
       "      <th>Physics</th>\n",
       "      <th>Science</th>\n",
       "      <th>Score</th>\n",
       "    </tr>\n",
       "    <tr>\n",
       "      <th>Student</th>\n",
       "      <th></th>\n",
       "      <th></th>\n",
       "      <th></th>\n",
       "      <th></th>\n",
       "      <th></th>\n",
       "      <th></th>\n",
       "      <th></th>\n",
       "      <th></th>\n",
       "      <th></th>\n",
       "      <th></th>\n",
       "      <th></th>\n",
       "    </tr>\n",
       "  </thead>\n",
       "  <tbody>\n",
       "    <tr>\n",
       "      <th>Student_1</th>\n",
       "      <td>IDL</td>\n",
       "      <td>6</td>\n",
       "      <td>14</td>\n",
       "      <td>15</td>\n",
       "      <td>3</td>\n",
       "      <td>14</td>\n",
       "      <td>0</td>\n",
       "      <td>10.0</td>\n",
       "      <td>9.0</td>\n",
       "      <td>7.0</td>\n",
       "      <td>8.67</td>\n",
       "    </tr>\n",
       "    <tr>\n",
       "      <th>Student_10</th>\n",
       "      <td>IDL</td>\n",
       "      <td>7</td>\n",
       "      <td>5</td>\n",
       "      <td>17</td>\n",
       "      <td>12</td>\n",
       "      <td>0</td>\n",
       "      <td>8</td>\n",
       "      <td>6.0</td>\n",
       "      <td>14.5</td>\n",
       "      <td>4.0</td>\n",
       "      <td>8.17</td>\n",
       "    </tr>\n",
       "    <tr>\n",
       "      <th>Student_100</th>\n",
       "      <td>IDL</td>\n",
       "      <td>11</td>\n",
       "      <td>9</td>\n",
       "      <td>10</td>\n",
       "      <td>10</td>\n",
       "      <td>4</td>\n",
       "      <td>20</td>\n",
       "      <td>10.0</td>\n",
       "      <td>10.0</td>\n",
       "      <td>12.0</td>\n",
       "      <td>10.67</td>\n",
       "    </tr>\n",
       "    <tr>\n",
       "      <th>Student_1000</th>\n",
       "      <td>ISEOC</td>\n",
       "      <td>11</td>\n",
       "      <td>18</td>\n",
       "      <td>12</td>\n",
       "      <td>6</td>\n",
       "      <td>7</td>\n",
       "      <td>4</td>\n",
       "      <td>14.5</td>\n",
       "      <td>9.0</td>\n",
       "      <td>5.5</td>\n",
       "      <td>9.67</td>\n",
       "    </tr>\n",
       "    <tr>\n",
       "      <th>Student_10000</th>\n",
       "      <td>IDISC</td>\n",
       "      <td>2</td>\n",
       "      <td>14</td>\n",
       "      <td>1</td>\n",
       "      <td>12</td>\n",
       "      <td>3</td>\n",
       "      <td>6</td>\n",
       "      <td>8.0</td>\n",
       "      <td>6.5</td>\n",
       "      <td>4.5</td>\n",
       "      <td>6.33</td>\n",
       "    </tr>\n",
       "  </tbody>\n",
       "</table>\n",
       "</div>"
      ],
      "text/plain": [
       "               Class  Math_1  Math_2  Physics_1  Physics_2  Science_1  \\\n",
       "Student                                                                 \n",
       "Student_1        IDL       6      14         15          3         14   \n",
       "Student_10       IDL       7       5         17         12          0   \n",
       "Student_100      IDL      11       9         10         10          4   \n",
       "Student_1000   ISEOC      11      18         12          6          7   \n",
       "Student_10000  IDISC       2      14          1         12          3   \n",
       "\n",
       "               Science_2  Math  Physics  Science  Score  \n",
       "Student                                                  \n",
       "Student_1              0  10.0      9.0      7.0   8.67  \n",
       "Student_10             8   6.0     14.5      4.0   8.17  \n",
       "Student_100           20  10.0     10.0     12.0  10.67  \n",
       "Student_1000           4  14.5      9.0      5.5   9.67  \n",
       "Student_10000          6   8.0      6.5      4.5   6.33  "
      ]
     },
     "execution_count": 125,
     "metadata": {},
     "output_type": "execute_result"
    }
   ],
   "source": [
    "students.sort_index().head() #Sort by the index values"
   ]
  },
  {
   "cell_type": "code",
   "execution_count": 128,
   "metadata": {
    "execution": {
     "iopub.execute_input": "2023-10-15T16:13:13.817902Z",
     "iopub.status.busy": "2023-10-15T16:13:13.817581Z",
     "iopub.status.idle": "2023-10-15T16:13:13.840056Z",
     "shell.execute_reply": "2023-10-15T16:13:13.839328Z",
     "shell.execute_reply.started": "2023-10-15T16:13:13.817876Z"
    }
   },
   "outputs": [
    {
     "data": {
      "text/html": [
       "<div>\n",
       "<style scoped>\n",
       "    .dataframe tbody tr th:only-of-type {\n",
       "        vertical-align: middle;\n",
       "    }\n",
       "\n",
       "    .dataframe tbody tr th {\n",
       "        vertical-align: top;\n",
       "    }\n",
       "\n",
       "    .dataframe thead th {\n",
       "        text-align: right;\n",
       "    }\n",
       "</style>\n",
       "<table border=\"1\" class=\"dataframe\">\n",
       "  <thead>\n",
       "    <tr style=\"text-align: right;\">\n",
       "      <th></th>\n",
       "      <th>Class</th>\n",
       "      <th>Math_1</th>\n",
       "      <th>Math_2</th>\n",
       "      <th>Physics_1</th>\n",
       "      <th>Physics_2</th>\n",
       "      <th>Science_1</th>\n",
       "      <th>Science_2</th>\n",
       "      <th>Math</th>\n",
       "      <th>Physics</th>\n",
       "      <th>Science</th>\n",
       "      <th>Score</th>\n",
       "    </tr>\n",
       "    <tr>\n",
       "      <th>Student</th>\n",
       "      <th></th>\n",
       "      <th></th>\n",
       "      <th></th>\n",
       "      <th></th>\n",
       "      <th></th>\n",
       "      <th></th>\n",
       "      <th></th>\n",
       "      <th></th>\n",
       "      <th></th>\n",
       "      <th></th>\n",
       "      <th></th>\n",
       "    </tr>\n",
       "  </thead>\n",
       "  <tbody>\n",
       "    <tr>\n",
       "      <th>Student_15693</th>\n",
       "      <td>ISEOC</td>\n",
       "      <td>20</td>\n",
       "      <td>16</td>\n",
       "      <td>20</td>\n",
       "      <td>20</td>\n",
       "      <td>19</td>\n",
       "      <td>19</td>\n",
       "      <td>18.0</td>\n",
       "      <td>20.0</td>\n",
       "      <td>19.0</td>\n",
       "      <td>19.00</td>\n",
       "    </tr>\n",
       "    <tr>\n",
       "      <th>Student_16668</th>\n",
       "      <td>IDL</td>\n",
       "      <td>20</td>\n",
       "      <td>18</td>\n",
       "      <td>19</td>\n",
       "      <td>20</td>\n",
       "      <td>20</td>\n",
       "      <td>15</td>\n",
       "      <td>19.0</td>\n",
       "      <td>19.5</td>\n",
       "      <td>17.5</td>\n",
       "      <td>18.67</td>\n",
       "    </tr>\n",
       "    <tr>\n",
       "      <th>Student_11980</th>\n",
       "      <td>IDISC</td>\n",
       "      <td>16</td>\n",
       "      <td>20</td>\n",
       "      <td>18</td>\n",
       "      <td>19</td>\n",
       "      <td>19</td>\n",
       "      <td>20</td>\n",
       "      <td>18.0</td>\n",
       "      <td>18.5</td>\n",
       "      <td>19.5</td>\n",
       "      <td>18.67</td>\n",
       "    </tr>\n",
       "    <tr>\n",
       "      <th>Student_6274</th>\n",
       "      <td>IDISC</td>\n",
       "      <td>20</td>\n",
       "      <td>19</td>\n",
       "      <td>19</td>\n",
       "      <td>14</td>\n",
       "      <td>20</td>\n",
       "      <td>19</td>\n",
       "      <td>19.5</td>\n",
       "      <td>16.5</td>\n",
       "      <td>19.5</td>\n",
       "      <td>18.50</td>\n",
       "    </tr>\n",
       "    <tr>\n",
       "      <th>Student_9737</th>\n",
       "      <td>IDISC</td>\n",
       "      <td>16</td>\n",
       "      <td>20</td>\n",
       "      <td>18</td>\n",
       "      <td>20</td>\n",
       "      <td>18</td>\n",
       "      <td>18</td>\n",
       "      <td>18.0</td>\n",
       "      <td>19.0</td>\n",
       "      <td>18.0</td>\n",
       "      <td>18.33</td>\n",
       "    </tr>\n",
       "    <tr>\n",
       "      <th>...</th>\n",
       "      <td>...</td>\n",
       "      <td>...</td>\n",
       "      <td>...</td>\n",
       "      <td>...</td>\n",
       "      <td>...</td>\n",
       "      <td>...</td>\n",
       "      <td>...</td>\n",
       "      <td>...</td>\n",
       "      <td>...</td>\n",
       "      <td>...</td>\n",
       "      <td>...</td>\n",
       "    </tr>\n",
       "    <tr>\n",
       "      <th>Student_21392</th>\n",
       "      <td>IDISC</td>\n",
       "      <td>1</td>\n",
       "      <td>0</td>\n",
       "      <td>2</td>\n",
       "      <td>4</td>\n",
       "      <td>7</td>\n",
       "      <td>1</td>\n",
       "      <td>0.5</td>\n",
       "      <td>3.0</td>\n",
       "      <td>4.0</td>\n",
       "      <td>2.50</td>\n",
       "    </tr>\n",
       "    <tr>\n",
       "      <th>Student_9557</th>\n",
       "      <td>ISEOC</td>\n",
       "      <td>0</td>\n",
       "      <td>0</td>\n",
       "      <td>0</td>\n",
       "      <td>8</td>\n",
       "      <td>6</td>\n",
       "      <td>1</td>\n",
       "      <td>0.0</td>\n",
       "      <td>4.0</td>\n",
       "      <td>3.5</td>\n",
       "      <td>2.50</td>\n",
       "    </tr>\n",
       "    <tr>\n",
       "      <th>Student_4606</th>\n",
       "      <td>IDISC</td>\n",
       "      <td>4</td>\n",
       "      <td>1</td>\n",
       "      <td>4</td>\n",
       "      <td>0</td>\n",
       "      <td>3</td>\n",
       "      <td>2</td>\n",
       "      <td>2.5</td>\n",
       "      <td>2.0</td>\n",
       "      <td>2.5</td>\n",
       "      <td>2.33</td>\n",
       "    </tr>\n",
       "    <tr>\n",
       "      <th>Student_20536</th>\n",
       "      <td>IDL</td>\n",
       "      <td>5</td>\n",
       "      <td>4</td>\n",
       "      <td>0</td>\n",
       "      <td>1</td>\n",
       "      <td>0</td>\n",
       "      <td>2</td>\n",
       "      <td>4.5</td>\n",
       "      <td>0.5</td>\n",
       "      <td>1.0</td>\n",
       "      <td>2.00</td>\n",
       "    </tr>\n",
       "    <tr>\n",
       "      <th>Student_10029</th>\n",
       "      <td>IDISC</td>\n",
       "      <td>0</td>\n",
       "      <td>0</td>\n",
       "      <td>3</td>\n",
       "      <td>3</td>\n",
       "      <td>3</td>\n",
       "      <td>1</td>\n",
       "      <td>0.0</td>\n",
       "      <td>3.0</td>\n",
       "      <td>2.0</td>\n",
       "      <td>1.67</td>\n",
       "    </tr>\n",
       "  </tbody>\n",
       "</table>\n",
       "<p>25000 rows × 11 columns</p>\n",
       "</div>"
      ],
      "text/plain": [
       "               Class  Math_1  Math_2  Physics_1  Physics_2  Science_1  \\\n",
       "Student                                                                 \n",
       "Student_15693  ISEOC      20      16         20         20         19   \n",
       "Student_16668    IDL      20      18         19         20         20   \n",
       "Student_11980  IDISC      16      20         18         19         19   \n",
       "Student_6274   IDISC      20      19         19         14         20   \n",
       "Student_9737   IDISC      16      20         18         20         18   \n",
       "...              ...     ...     ...        ...        ...        ...   \n",
       "Student_21392  IDISC       1       0          2          4          7   \n",
       "Student_9557   ISEOC       0       0          0          8          6   \n",
       "Student_4606   IDISC       4       1          4          0          3   \n",
       "Student_20536    IDL       5       4          0          1          0   \n",
       "Student_10029  IDISC       0       0          3          3          3   \n",
       "\n",
       "               Science_2  Math  Physics  Science  Score  \n",
       "Student                                                  \n",
       "Student_15693         19  18.0     20.0     19.0  19.00  \n",
       "Student_16668         15  19.0     19.5     17.5  18.67  \n",
       "Student_11980         20  18.0     18.5     19.5  18.67  \n",
       "Student_6274          19  19.5     16.5     19.5  18.50  \n",
       "Student_9737          18  18.0     19.0     18.0  18.33  \n",
       "...                  ...   ...      ...      ...    ...  \n",
       "Student_21392          1   0.5      3.0      4.0   2.50  \n",
       "Student_9557           1   0.0      4.0      3.5   2.50  \n",
       "Student_4606           2   2.5      2.0      2.5   2.33  \n",
       "Student_20536          2   4.5      0.5      1.0   2.00  \n",
       "Student_10029          1   0.0      3.0      2.0   1.67  \n",
       "\n",
       "[25000 rows x 11 columns]"
      ]
     },
     "execution_count": 128,
     "metadata": {},
     "output_type": "execute_result"
    }
   ],
   "source": [
    "# Sort by more than one column \n",
    "students.sort_values(by=['Score', 'Math'], ascending = False)"
   ]
  },
  {
   "cell_type": "markdown",
   "metadata": {},
   "source": [
    "#  VII. Data Types"
   ]
  },
  {
   "cell_type": "markdown",
   "metadata": {},
   "source": [
    "#### The data type for a column in a DataFrame or a Series is known as the dtype."
   ]
  },
  {
   "cell_type": "code",
   "execution_count": 129,
   "metadata": {
    "execution": {
     "iopub.execute_input": "2023-10-15T16:13:14.096394Z",
     "iopub.status.busy": "2023-10-15T16:13:14.095694Z",
     "iopub.status.idle": "2023-10-15T16:13:14.104348Z",
     "shell.execute_reply": "2023-10-15T16:13:14.103069Z",
     "shell.execute_reply.started": "2023-10-15T16:13:14.096351Z"
    }
   },
   "outputs": [
    {
     "data": {
      "text/plain": [
       "dtype('float64')"
      ]
     },
     "execution_count": 129,
     "metadata": {},
     "output_type": "execute_result"
    }
   ],
   "source": [
    "students.Math.dtype"
   ]
  },
  {
   "cell_type": "markdown",
   "metadata": {},
   "source": [
    "#### Alternatively, the dtypes property returns the dtype of every column in the DataFrame"
   ]
  },
  {
   "cell_type": "code",
   "execution_count": 131,
   "metadata": {
    "execution": {
     "iopub.execute_input": "2023-10-15T16:13:14.110869Z",
     "iopub.status.busy": "2023-10-15T16:13:14.110069Z",
     "iopub.status.idle": "2023-10-15T16:13:14.123029Z",
     "shell.execute_reply": "2023-10-15T16:13:14.121561Z",
     "shell.execute_reply.started": "2023-10-15T16:13:14.110824Z"
    }
   },
   "outputs": [
    {
     "data": {
      "text/plain": [
       "Class        object\n",
       "Math_1        int64\n",
       "Math_2        int64\n",
       "Physics_1     int64\n",
       "Physics_2     int64\n",
       "dtype: object"
      ]
     },
     "execution_count": 131,
     "metadata": {},
     "output_type": "execute_result"
    }
   ],
   "source": [
    "students.dtypes.head()"
   ]
  },
  {
   "cell_type": "code",
   "execution_count": 54,
   "metadata": {
    "execution": {
     "iopub.execute_input": "2023-10-15T16:13:14.126169Z",
     "iopub.status.busy": "2023-10-15T16:13:14.124947Z",
     "iopub.status.idle": "2023-10-15T16:13:14.139347Z",
     "shell.execute_reply": "2023-10-15T16:13:14.138312Z",
     "shell.execute_reply.started": "2023-10-15T16:13:14.126125Z"
    }
   },
   "outputs": [
    {
     "data": {
      "text/plain": [
       "dtype('O')"
      ]
     },
     "execution_count": 54,
     "metadata": {},
     "output_type": "execute_result"
    }
   ],
   "source": [
    "students.index.dtype"
   ]
  },
  {
   "cell_type": "markdown",
   "metadata": {},
   "source": [
    "## VII.1. Converting types"
   ]
  },
  {
   "cell_type": "code",
   "execution_count": 136,
   "metadata": {
    "execution": {
     "iopub.execute_input": "2023-10-15T16:13:14.142889Z",
     "iopub.status.busy": "2023-10-15T16:13:14.142359Z",
     "iopub.status.idle": "2023-10-15T16:13:14.157823Z",
     "shell.execute_reply": "2023-10-15T16:13:14.156732Z",
     "shell.execute_reply.started": "2023-10-15T16:13:14.142821Z"
    }
   },
   "outputs": [
    {
     "data": {
      "text/plain": [
       "Student\n",
       "Student_1     6.0\n",
       "Student_2     1.0\n",
       "Student_3    13.0\n",
       "Student_4    13.0\n",
       "Student_5     9.0\n",
       "Name: Math_1, dtype: float64"
      ]
     },
     "execution_count": 136,
     "metadata": {},
     "output_type": "execute_result"
    }
   ],
   "source": [
    "# This returns a new Serires\n",
    "students.Math_1.astype('float64').head()"
   ]
  },
  {
   "cell_type": "markdown",
   "metadata": {},
   "source": [
    "# VIII. Missing Data"
   ]
  },
  {
   "cell_type": "markdown",
   "metadata": {},
   "source": [
    "#### Entries missing values are given the value NaN, short for \"Not a Number\". For technical reasons these NaN values are always of the float64 dtype."
   ]
  },
  {
   "cell_type": "code",
   "execution_count": 137,
   "metadata": {
    "execution": {
     "iopub.execute_input": "2023-10-15T16:13:14.159428Z",
     "iopub.status.busy": "2023-10-15T16:13:14.159122Z",
     "iopub.status.idle": "2023-10-15T16:13:14.178163Z",
     "shell.execute_reply": "2023-10-15T16:13:14.177019Z",
     "shell.execute_reply.started": "2023-10-15T16:13:14.159403Z"
    }
   },
   "outputs": [
    {
     "data": {
      "text/html": [
       "<div>\n",
       "<style scoped>\n",
       "    .dataframe tbody tr th:only-of-type {\n",
       "        vertical-align: middle;\n",
       "    }\n",
       "\n",
       "    .dataframe tbody tr th {\n",
       "        vertical-align: top;\n",
       "    }\n",
       "\n",
       "    .dataframe thead th {\n",
       "        text-align: right;\n",
       "    }\n",
       "</style>\n",
       "<table border=\"1\" class=\"dataframe\">\n",
       "  <thead>\n",
       "    <tr style=\"text-align: right;\">\n",
       "      <th></th>\n",
       "      <th>Class</th>\n",
       "      <th>Math_1</th>\n",
       "      <th>Math_2</th>\n",
       "      <th>Physics_1</th>\n",
       "      <th>Physics_2</th>\n",
       "      <th>Science_1</th>\n",
       "      <th>Science_2</th>\n",
       "      <th>Math</th>\n",
       "      <th>Physics</th>\n",
       "      <th>Science</th>\n",
       "      <th>Score</th>\n",
       "    </tr>\n",
       "    <tr>\n",
       "      <th>Student</th>\n",
       "      <th></th>\n",
       "      <th></th>\n",
       "      <th></th>\n",
       "      <th></th>\n",
       "      <th></th>\n",
       "      <th></th>\n",
       "      <th></th>\n",
       "      <th></th>\n",
       "      <th></th>\n",
       "      <th></th>\n",
       "      <th></th>\n",
       "    </tr>\n",
       "  </thead>\n",
       "  <tbody>\n",
       "  </tbody>\n",
       "</table>\n",
       "</div>"
      ],
      "text/plain": [
       "Empty DataFrame\n",
       "Columns: [Class, Math_1, Math_2, Physics_1, Physics_2, Science_1, Science_2, Math, Physics, Science, Score]\n",
       "Index: []"
      ]
     },
     "execution_count": 137,
     "metadata": {},
     "output_type": "execute_result"
    }
   ],
   "source": [
    "# To select NaN entires use this\n",
    "students[pd.isnull(students.Math)]"
   ]
  },
  {
   "cell_type": "code",
   "execution_count": 139,
   "metadata": {
    "execution": {
     "iopub.execute_input": "2023-10-15T16:13:14.307025Z",
     "iopub.status.busy": "2023-10-15T16:13:14.306574Z",
     "iopub.status.idle": "2023-10-15T16:13:14.331126Z",
     "shell.execute_reply": "2023-10-15T16:13:14.329980Z",
     "shell.execute_reply.started": "2023-10-15T16:13:14.306991Z"
    }
   },
   "outputs": [
    {
     "data": {
      "text/html": [
       "<div>\n",
       "<style scoped>\n",
       "    .dataframe tbody tr th:only-of-type {\n",
       "        vertical-align: middle;\n",
       "    }\n",
       "\n",
       "    .dataframe tbody tr th {\n",
       "        vertical-align: top;\n",
       "    }\n",
       "\n",
       "    .dataframe thead th {\n",
       "        text-align: right;\n",
       "    }\n",
       "</style>\n",
       "<table border=\"1\" class=\"dataframe\">\n",
       "  <thead>\n",
       "    <tr style=\"text-align: right;\">\n",
       "      <th></th>\n",
       "      <th>Class</th>\n",
       "      <th>Math_1</th>\n",
       "      <th>Math_2</th>\n",
       "      <th>Physics_1</th>\n",
       "      <th>Physics_2</th>\n",
       "      <th>Science_1</th>\n",
       "      <th>Science_2</th>\n",
       "      <th>Math</th>\n",
       "      <th>Physics</th>\n",
       "      <th>Science</th>\n",
       "      <th>Score</th>\n",
       "    </tr>\n",
       "    <tr>\n",
       "      <th>Student</th>\n",
       "      <th></th>\n",
       "      <th></th>\n",
       "      <th></th>\n",
       "      <th></th>\n",
       "      <th></th>\n",
       "      <th></th>\n",
       "      <th></th>\n",
       "      <th></th>\n",
       "      <th></th>\n",
       "      <th></th>\n",
       "      <th></th>\n",
       "    </tr>\n",
       "  </thead>\n",
       "  <tbody>\n",
       "    <tr>\n",
       "      <th>Student_1</th>\n",
       "      <td>IDL</td>\n",
       "      <td>6</td>\n",
       "      <td>14</td>\n",
       "      <td>15</td>\n",
       "      <td>3</td>\n",
       "      <td>14</td>\n",
       "      <td>0</td>\n",
       "      <td>10.0</td>\n",
       "      <td>9.0</td>\n",
       "      <td>7.0</td>\n",
       "      <td>8.67</td>\n",
       "    </tr>\n",
       "    <tr>\n",
       "      <th>Student_2</th>\n",
       "      <td>ISEOC</td>\n",
       "      <td>1</td>\n",
       "      <td>15</td>\n",
       "      <td>13</td>\n",
       "      <td>3</td>\n",
       "      <td>5</td>\n",
       "      <td>5</td>\n",
       "      <td>8.0</td>\n",
       "      <td>8.0</td>\n",
       "      <td>5.0</td>\n",
       "      <td>7.00</td>\n",
       "    </tr>\n",
       "    <tr>\n",
       "      <th>Student_3</th>\n",
       "      <td>IDL</td>\n",
       "      <td>13</td>\n",
       "      <td>8</td>\n",
       "      <td>9</td>\n",
       "      <td>7</td>\n",
       "      <td>15</td>\n",
       "      <td>12</td>\n",
       "      <td>10.5</td>\n",
       "      <td>8.0</td>\n",
       "      <td>13.5</td>\n",
       "      <td>10.67</td>\n",
       "    </tr>\n",
       "    <tr>\n",
       "      <th>Student_4</th>\n",
       "      <td>IDL</td>\n",
       "      <td>13</td>\n",
       "      <td>17</td>\n",
       "      <td>4</td>\n",
       "      <td>13</td>\n",
       "      <td>18</td>\n",
       "      <td>6</td>\n",
       "      <td>15.0</td>\n",
       "      <td>8.5</td>\n",
       "      <td>12.0</td>\n",
       "      <td>11.83</td>\n",
       "    </tr>\n",
       "    <tr>\n",
       "      <th>Student_5</th>\n",
       "      <td>IDISC</td>\n",
       "      <td>9</td>\n",
       "      <td>15</td>\n",
       "      <td>1</td>\n",
       "      <td>8</td>\n",
       "      <td>4</td>\n",
       "      <td>0</td>\n",
       "      <td>12.0</td>\n",
       "      <td>4.5</td>\n",
       "      <td>2.0</td>\n",
       "      <td>6.17</td>\n",
       "    </tr>\n",
       "  </tbody>\n",
       "</table>\n",
       "</div>"
      ],
      "text/plain": [
       "           Class  Math_1  Math_2  Physics_1  Physics_2  Science_1  Science_2  \\\n",
       "Student                                                                        \n",
       "Student_1    IDL       6      14         15          3         14          0   \n",
       "Student_2  ISEOC       1      15         13          3          5          5   \n",
       "Student_3    IDL      13       8          9          7         15         12   \n",
       "Student_4    IDL      13      17          4         13         18          6   \n",
       "Student_5  IDISC       9      15          1          8          4          0   \n",
       "\n",
       "           Math  Physics  Science  Score  \n",
       "Student                                   \n",
       "Student_1  10.0      9.0      7.0   8.67  \n",
       "Student_2   8.0      8.0      5.0   7.00  \n",
       "Student_3  10.5      8.0     13.5  10.67  \n",
       "Student_4  15.0      8.5     12.0  11.83  \n",
       "Student_5  12.0      4.5      2.0   6.17  "
      ]
     },
     "execution_count": 139,
     "metadata": {},
     "output_type": "execute_result"
    }
   ],
   "source": [
    "students[pd.notnull(students.Math)].head()"
   ]
  },
  {
   "cell_type": "markdown",
   "metadata": {},
   "source": [
    "## VIII.1. Replacing missing Data"
   ]
  },
  {
   "cell_type": "code",
   "execution_count": 140,
   "metadata": {
    "execution": {
     "iopub.execute_input": "2023-10-15T16:13:14.334861Z",
     "iopub.status.busy": "2023-10-15T16:13:14.334398Z",
     "iopub.status.idle": "2023-10-15T16:13:14.344444Z",
     "shell.execute_reply": "2023-10-15T16:13:14.343337Z",
     "shell.execute_reply.started": "2023-10-15T16:13:14.334820Z"
    }
   },
   "outputs": [
    {
     "data": {
      "text/plain": [
       "Student\n",
       "Student_1        10.0\n",
       "Student_2         8.0\n",
       "Student_3        10.5\n",
       "Student_4        15.0\n",
       "Student_5        12.0\n",
       "                 ... \n",
       "Student_24996    20.0\n",
       "Student_24997     9.5\n",
       "Student_24998    14.0\n",
       "Student_24999    12.0\n",
       "Student_25000     7.0\n",
       "Name: Math, Length: 25000, dtype: float64"
      ]
     },
     "execution_count": 140,
     "metadata": {},
     "output_type": "execute_result"
    }
   ],
   "source": [
    "# Replace each NaN with an \"Unknown\"\n",
    "# Or we could fill each missing value with the first non-null value that appears sometime after the given record in the database. T\n",
    "# This is the backfill strategy.\n",
    "students.Math.fillna('Unknown')"
   ]
  },
  {
   "cell_type": "markdown",
   "metadata": {},
   "source": [
    "## VIII.2. Replacing normal data"
   ]
  },
  {
   "cell_type": "code",
   "execution_count": 149,
   "metadata": {
    "execution": {
     "iopub.execute_input": "2023-10-15T16:13:14.346579Z",
     "iopub.status.busy": "2023-10-15T16:13:14.345565Z",
     "iopub.status.idle": "2023-10-15T16:13:14.363170Z",
     "shell.execute_reply": "2023-10-15T16:13:14.361774Z",
     "shell.execute_reply.started": "2023-10-15T16:13:14.346519Z"
    }
   },
   "outputs": [
    {
     "data": {
      "text/plain": [
       "Student\n",
       "Student_1    20.0\n",
       "Student_2     8.0\n",
       "Student_3    10.5\n",
       "Student_4    15.0\n",
       "Student_5    12.0\n",
       "Name: Math, dtype: float64"
      ]
     },
     "execution_count": 149,
     "metadata": {},
     "output_type": "execute_result"
    }
   ],
   "source": [
    "students.Math.replace(10, 20).head()"
   ]
  },
  {
   "cell_type": "markdown",
   "metadata": {},
   "source": [
    "# IX. Renaming and Combining\n"
   ]
  },
  {
   "cell_type": "markdown",
   "metadata": {},
   "source": [
    "## IX.1. Renaming"
   ]
  },
  {
   "cell_type": "markdown",
   "metadata": {},
   "source": [
    "#### Rename index or column values by specifying a index or column keyword parameter, respectively, using a python dictionnary with the old and new values"
   ]
  },
  {
   "cell_type": "code",
   "execution_count": 151,
   "metadata": {
    "execution": {
     "iopub.execute_input": "2023-10-15T16:13:14.378438Z",
     "iopub.status.busy": "2023-10-15T16:13:14.377454Z",
     "iopub.status.idle": "2023-10-15T16:13:14.403830Z",
     "shell.execute_reply": "2023-10-15T16:13:14.402363Z",
     "shell.execute_reply.started": "2023-10-15T16:13:14.378397Z"
    }
   },
   "outputs": [
    {
     "data": {
      "text/html": [
       "<div>\n",
       "<style scoped>\n",
       "    .dataframe tbody tr th:only-of-type {\n",
       "        vertical-align: middle;\n",
       "    }\n",
       "\n",
       "    .dataframe tbody tr th {\n",
       "        vertical-align: top;\n",
       "    }\n",
       "\n",
       "    .dataframe thead th {\n",
       "        text-align: right;\n",
       "    }\n",
       "</style>\n",
       "<table border=\"1\" class=\"dataframe\">\n",
       "  <thead>\n",
       "    <tr style=\"text-align: right;\">\n",
       "      <th></th>\n",
       "      <th>Class</th>\n",
       "      <th>Math_1</th>\n",
       "      <th>Math_2</th>\n",
       "      <th>Physics_1</th>\n",
       "      <th>Physics_2</th>\n",
       "      <th>Science_1</th>\n",
       "      <th>Science_2</th>\n",
       "      <th>7seb</th>\n",
       "      <th>Chimie</th>\n",
       "      <th>Science</th>\n",
       "      <th>Score</th>\n",
       "    </tr>\n",
       "    <tr>\n",
       "      <th>Student</th>\n",
       "      <th></th>\n",
       "      <th></th>\n",
       "      <th></th>\n",
       "      <th></th>\n",
       "      <th></th>\n",
       "      <th></th>\n",
       "      <th></th>\n",
       "      <th></th>\n",
       "      <th></th>\n",
       "      <th></th>\n",
       "      <th></th>\n",
       "    </tr>\n",
       "  </thead>\n",
       "  <tbody>\n",
       "    <tr>\n",
       "      <th>Student_1</th>\n",
       "      <td>IDL</td>\n",
       "      <td>6</td>\n",
       "      <td>14</td>\n",
       "      <td>15</td>\n",
       "      <td>3</td>\n",
       "      <td>14</td>\n",
       "      <td>0</td>\n",
       "      <td>10.0</td>\n",
       "      <td>9.0</td>\n",
       "      <td>7.0</td>\n",
       "      <td>8.67</td>\n",
       "    </tr>\n",
       "    <tr>\n",
       "      <th>Student_2</th>\n",
       "      <td>ISEOC</td>\n",
       "      <td>1</td>\n",
       "      <td>15</td>\n",
       "      <td>13</td>\n",
       "      <td>3</td>\n",
       "      <td>5</td>\n",
       "      <td>5</td>\n",
       "      <td>8.0</td>\n",
       "      <td>8.0</td>\n",
       "      <td>5.0</td>\n",
       "      <td>7.00</td>\n",
       "    </tr>\n",
       "    <tr>\n",
       "      <th>Student_3</th>\n",
       "      <td>IDL</td>\n",
       "      <td>13</td>\n",
       "      <td>8</td>\n",
       "      <td>9</td>\n",
       "      <td>7</td>\n",
       "      <td>15</td>\n",
       "      <td>12</td>\n",
       "      <td>10.5</td>\n",
       "      <td>8.0</td>\n",
       "      <td>13.5</td>\n",
       "      <td>10.67</td>\n",
       "    </tr>\n",
       "    <tr>\n",
       "      <th>Student_4</th>\n",
       "      <td>IDL</td>\n",
       "      <td>13</td>\n",
       "      <td>17</td>\n",
       "      <td>4</td>\n",
       "      <td>13</td>\n",
       "      <td>18</td>\n",
       "      <td>6</td>\n",
       "      <td>15.0</td>\n",
       "      <td>8.5</td>\n",
       "      <td>12.0</td>\n",
       "      <td>11.83</td>\n",
       "    </tr>\n",
       "    <tr>\n",
       "      <th>Student_5</th>\n",
       "      <td>IDISC</td>\n",
       "      <td>9</td>\n",
       "      <td>15</td>\n",
       "      <td>1</td>\n",
       "      <td>8</td>\n",
       "      <td>4</td>\n",
       "      <td>0</td>\n",
       "      <td>12.0</td>\n",
       "      <td>4.5</td>\n",
       "      <td>2.0</td>\n",
       "      <td>6.17</td>\n",
       "    </tr>\n",
       "  </tbody>\n",
       "</table>\n",
       "</div>"
      ],
      "text/plain": [
       "           Class  Math_1  Math_2  Physics_1  Physics_2  Science_1  Science_2  \\\n",
       "Student                                                                        \n",
       "Student_1    IDL       6      14         15          3         14          0   \n",
       "Student_2  ISEOC       1      15         13          3          5          5   \n",
       "Student_3    IDL      13       8          9          7         15         12   \n",
       "Student_4    IDL      13      17          4         13         18          6   \n",
       "Student_5  IDISC       9      15          1          8          4          0   \n",
       "\n",
       "           7seb  Chimie  Science  Score  \n",
       "Student                                  \n",
       "Student_1  10.0     9.0      7.0   8.67  \n",
       "Student_2   8.0     8.0      5.0   7.00  \n",
       "Student_3  10.5     8.0     13.5  10.67  \n",
       "Student_4  15.0     8.5     12.0  11.83  \n",
       "Student_5  12.0     4.5      2.0   6.17  "
      ]
     },
     "execution_count": 151,
     "metadata": {},
     "output_type": "execute_result"
    }
   ],
   "source": [
    "# Change index names and/or column names.\n",
    "# New dataframe\n",
    "students.rename(columns={'Math': '7seb', 'Physics': 'Chimie'}).head()"
   ]
  },
  {
   "cell_type": "code",
   "execution_count": 159,
   "metadata": {
    "execution": {
     "iopub.execute_input": "2023-10-15T16:13:14.407544Z",
     "iopub.status.busy": "2023-10-15T16:13:14.406624Z",
     "iopub.status.idle": "2023-10-15T16:13:14.434069Z",
     "shell.execute_reply": "2023-10-15T16:13:14.432570Z",
     "shell.execute_reply.started": "2023-10-15T16:13:14.407483Z"
    }
   },
   "outputs": [
    {
     "data": {
      "text/html": [
       "<div>\n",
       "<style scoped>\n",
       "    .dataframe tbody tr th:only-of-type {\n",
       "        vertical-align: middle;\n",
       "    }\n",
       "\n",
       "    .dataframe tbody tr th {\n",
       "        vertical-align: top;\n",
       "    }\n",
       "\n",
       "    .dataframe thead th {\n",
       "        text-align: right;\n",
       "    }\n",
       "</style>\n",
       "<table border=\"1\" class=\"dataframe\">\n",
       "  <thead>\n",
       "    <tr style=\"text-align: right;\">\n",
       "      <th></th>\n",
       "      <th>Class</th>\n",
       "      <th>Math_1</th>\n",
       "      <th>Math_2</th>\n",
       "      <th>Physics_1</th>\n",
       "      <th>Physics_2</th>\n",
       "      <th>Science_1</th>\n",
       "      <th>Science_2</th>\n",
       "      <th>Math</th>\n",
       "      <th>Physics</th>\n",
       "      <th>Science</th>\n",
       "      <th>Score</th>\n",
       "    </tr>\n",
       "    <tr>\n",
       "      <th>Student</th>\n",
       "      <th></th>\n",
       "      <th></th>\n",
       "      <th></th>\n",
       "      <th></th>\n",
       "      <th></th>\n",
       "      <th></th>\n",
       "      <th></th>\n",
       "      <th></th>\n",
       "      <th></th>\n",
       "      <th></th>\n",
       "      <th></th>\n",
       "    </tr>\n",
       "  </thead>\n",
       "  <tbody>\n",
       "    <tr>\n",
       "      <th>Student_1</th>\n",
       "      <td>IDL</td>\n",
       "      <td>6</td>\n",
       "      <td>14</td>\n",
       "      <td>15</td>\n",
       "      <td>3</td>\n",
       "      <td>14</td>\n",
       "      <td>0</td>\n",
       "      <td>10.0</td>\n",
       "      <td>9.0</td>\n",
       "      <td>7.0</td>\n",
       "      <td>8.67</td>\n",
       "    </tr>\n",
       "    <tr>\n",
       "      <th>Student_2</th>\n",
       "      <td>ISEOC</td>\n",
       "      <td>1</td>\n",
       "      <td>15</td>\n",
       "      <td>13</td>\n",
       "      <td>3</td>\n",
       "      <td>5</td>\n",
       "      <td>5</td>\n",
       "      <td>8.0</td>\n",
       "      <td>8.0</td>\n",
       "      <td>5.0</td>\n",
       "      <td>7.00</td>\n",
       "    </tr>\n",
       "    <tr>\n",
       "      <th>Student_3</th>\n",
       "      <td>IDL</td>\n",
       "      <td>13</td>\n",
       "      <td>8</td>\n",
       "      <td>9</td>\n",
       "      <td>7</td>\n",
       "      <td>15</td>\n",
       "      <td>12</td>\n",
       "      <td>10.5</td>\n",
       "      <td>8.0</td>\n",
       "      <td>13.5</td>\n",
       "      <td>10.67</td>\n",
       "    </tr>\n",
       "    <tr>\n",
       "      <th>Student_4</th>\n",
       "      <td>IDL</td>\n",
       "      <td>13</td>\n",
       "      <td>17</td>\n",
       "      <td>4</td>\n",
       "      <td>13</td>\n",
       "      <td>18</td>\n",
       "      <td>6</td>\n",
       "      <td>15.0</td>\n",
       "      <td>8.5</td>\n",
       "      <td>12.0</td>\n",
       "      <td>11.83</td>\n",
       "    </tr>\n",
       "    <tr>\n",
       "      <th>Student_5</th>\n",
       "      <td>IDISC</td>\n",
       "      <td>9</td>\n",
       "      <td>15</td>\n",
       "      <td>1</td>\n",
       "      <td>8</td>\n",
       "      <td>4</td>\n",
       "      <td>0</td>\n",
       "      <td>12.0</td>\n",
       "      <td>4.5</td>\n",
       "      <td>2.0</td>\n",
       "      <td>6.17</td>\n",
       "    </tr>\n",
       "  </tbody>\n",
       "</table>\n",
       "</div>"
      ],
      "text/plain": [
       "           Class  Math_1  Math_2  Physics_1  Physics_2  Science_1  Science_2  \\\n",
       "Student                                                                        \n",
       "Student_1    IDL       6      14         15          3         14          0   \n",
       "Student_2  ISEOC       1      15         13          3          5          5   \n",
       "Student_3    IDL      13       8          9          7         15         12   \n",
       "Student_4    IDL      13      17          4         13         18          6   \n",
       "Student_5  IDISC       9      15          1          8          4          0   \n",
       "\n",
       "           Math  Physics  Science  Score  \n",
       "Student                                   \n",
       "Student_1  10.0      9.0      7.0   8.67  \n",
       "Student_2   8.0      8.0      5.0   7.00  \n",
       "Student_3  10.5      8.0     13.5  10.67  \n",
       "Student_4  15.0      8.5     12.0  11.83  \n",
       "Student_5  12.0      4.5      2.0   6.17  "
      ]
     },
     "execution_count": 159,
     "metadata": {},
     "output_type": "execute_result"
    }
   ],
   "source": [
    "students.rename(index={2: 'Rayen'}).head() # Only works if the index_col is default"
   ]
  },
  {
   "cell_type": "markdown",
   "metadata": {},
   "source": [
    "#### Both the row index and the column index can have their own name attribute. The complimentary rename_axis() method may be used to change these names."
   ]
  },
  {
   "cell_type": "code",
   "execution_count": 158,
   "metadata": {
    "execution": {
     "iopub.execute_input": "2023-10-15T16:14:11.525872Z",
     "iopub.status.busy": "2023-10-15T16:14:11.525470Z",
     "iopub.status.idle": "2023-10-15T16:14:11.550599Z",
     "shell.execute_reply": "2023-10-15T16:14:11.549256Z",
     "shell.execute_reply.started": "2023-10-15T16:14:11.525844Z"
    }
   },
   "outputs": [
    {
     "data": {
      "text/html": [
       "<div>\n",
       "<style scoped>\n",
       "    .dataframe tbody tr th:only-of-type {\n",
       "        vertical-align: middle;\n",
       "    }\n",
       "\n",
       "    .dataframe tbody tr th {\n",
       "        vertical-align: top;\n",
       "    }\n",
       "\n",
       "    .dataframe thead th {\n",
       "        text-align: right;\n",
       "    }\n",
       "</style>\n",
       "<table border=\"1\" class=\"dataframe\">\n",
       "  <thead>\n",
       "    <tr style=\"text-align: right;\">\n",
       "      <th>Matieres</th>\n",
       "      <th>Class</th>\n",
       "      <th>Math_1</th>\n",
       "      <th>Math_2</th>\n",
       "      <th>Physics_1</th>\n",
       "      <th>Physics_2</th>\n",
       "      <th>Science_1</th>\n",
       "      <th>Science_2</th>\n",
       "      <th>Math</th>\n",
       "      <th>Physics</th>\n",
       "      <th>Science</th>\n",
       "      <th>Score</th>\n",
       "    </tr>\n",
       "    <tr>\n",
       "      <th>Etudiants</th>\n",
       "      <th></th>\n",
       "      <th></th>\n",
       "      <th></th>\n",
       "      <th></th>\n",
       "      <th></th>\n",
       "      <th></th>\n",
       "      <th></th>\n",
       "      <th></th>\n",
       "      <th></th>\n",
       "      <th></th>\n",
       "      <th></th>\n",
       "    </tr>\n",
       "  </thead>\n",
       "  <tbody>\n",
       "    <tr>\n",
       "      <th>Student_1</th>\n",
       "      <td>IDL</td>\n",
       "      <td>6</td>\n",
       "      <td>14</td>\n",
       "      <td>15</td>\n",
       "      <td>3</td>\n",
       "      <td>14</td>\n",
       "      <td>0</td>\n",
       "      <td>10.0</td>\n",
       "      <td>9.0</td>\n",
       "      <td>7.0</td>\n",
       "      <td>8.67</td>\n",
       "    </tr>\n",
       "    <tr>\n",
       "      <th>Student_2</th>\n",
       "      <td>ISEOC</td>\n",
       "      <td>1</td>\n",
       "      <td>15</td>\n",
       "      <td>13</td>\n",
       "      <td>3</td>\n",
       "      <td>5</td>\n",
       "      <td>5</td>\n",
       "      <td>8.0</td>\n",
       "      <td>8.0</td>\n",
       "      <td>5.0</td>\n",
       "      <td>7.00</td>\n",
       "    </tr>\n",
       "    <tr>\n",
       "      <th>Student_3</th>\n",
       "      <td>IDL</td>\n",
       "      <td>13</td>\n",
       "      <td>8</td>\n",
       "      <td>9</td>\n",
       "      <td>7</td>\n",
       "      <td>15</td>\n",
       "      <td>12</td>\n",
       "      <td>10.5</td>\n",
       "      <td>8.0</td>\n",
       "      <td>13.5</td>\n",
       "      <td>10.67</td>\n",
       "    </tr>\n",
       "    <tr>\n",
       "      <th>Student_4</th>\n",
       "      <td>IDL</td>\n",
       "      <td>13</td>\n",
       "      <td>17</td>\n",
       "      <td>4</td>\n",
       "      <td>13</td>\n",
       "      <td>18</td>\n",
       "      <td>6</td>\n",
       "      <td>15.0</td>\n",
       "      <td>8.5</td>\n",
       "      <td>12.0</td>\n",
       "      <td>11.83</td>\n",
       "    </tr>\n",
       "    <tr>\n",
       "      <th>Student_5</th>\n",
       "      <td>IDISC</td>\n",
       "      <td>9</td>\n",
       "      <td>15</td>\n",
       "      <td>1</td>\n",
       "      <td>8</td>\n",
       "      <td>4</td>\n",
       "      <td>0</td>\n",
       "      <td>12.0</td>\n",
       "      <td>4.5</td>\n",
       "      <td>2.0</td>\n",
       "      <td>6.17</td>\n",
       "    </tr>\n",
       "  </tbody>\n",
       "</table>\n",
       "</div>"
      ],
      "text/plain": [
       "Matieres   Class  Math_1  Math_2  Physics_1  Physics_2  Science_1  Science_2  \\\n",
       "Etudiants                                                                      \n",
       "Student_1    IDL       6      14         15          3         14          0   \n",
       "Student_2  ISEOC       1      15         13          3          5          5   \n",
       "Student_3    IDL      13       8          9          7         15         12   \n",
       "Student_4    IDL      13      17          4         13         18          6   \n",
       "Student_5  IDISC       9      15          1          8          4          0   \n",
       "\n",
       "Matieres   Math  Physics  Science  Score  \n",
       "Etudiants                                 \n",
       "Student_1  10.0      9.0      7.0   8.67  \n",
       "Student_2   8.0      8.0      5.0   7.00  \n",
       "Student_3  10.5      8.0     13.5  10.67  \n",
       "Student_4  15.0      8.5     12.0  11.83  \n",
       "Student_5  12.0      4.5      2.0   6.17  "
      ]
     },
     "execution_count": 158,
     "metadata": {},
     "output_type": "execute_result"
    }
   ],
   "source": [
    "students.rename_axis(\"Etudiants\",axis='rows').rename_axis(\"Matieres\", axis='columns').head()"
   ]
  },
  {
   "cell_type": "markdown",
   "metadata": {},
   "source": [
    "# IX.2. Combining"
   ]
  },
  {
   "cell_type": "markdown",
   "metadata": {},
   "source": [
    "#### Combine different DataFrames and/or Series in non-trivial ways.\n",
    "#### concat(), join(), and merge() (In order of complexity)"
   ]
  },
  {
   "cell_type": "markdown",
   "metadata": {},
   "source": [
    "#### Given a list of elements, this function will smush those elements together along an axis. This is useful when we have data in different DataFrame or Series objects but having the same fields (columns)."
   ]
  },
  {
   "cell_type": "code",
   "execution_count": null,
   "metadata": {
    "execution": {
     "iopub.execute_input": "2023-10-15T16:14:24.950935Z",
     "iopub.status.busy": "2023-10-15T16:14:24.950558Z",
     "iopub.status.idle": "2023-10-15T16:14:24.955658Z",
     "shell.execute_reply": "2023-10-15T16:14:24.954514Z",
     "shell.execute_reply.started": "2023-10-15T16:14:24.950907Z"
    }
   },
   "outputs": [],
   "source": [
    "#pd.concat([dataf1, dataf2]) # or Series"
   ]
  },
  {
   "cell_type": "markdown",
   "metadata": {},
   "source": [
    "#### join \n",
    "####  lets you combine different DataFrame objects which have an index in common"
   ]
  },
  {
   "cell_type": "code",
   "execution_count": null,
   "metadata": {},
   "outputs": [],
   "source": []
  }
 ],
 "metadata": {
  "kernelspec": {
   "display_name": "Python 3 (ipykernel)",
   "language": "python",
   "name": "python3"
  },
  "language_info": {
   "codemirror_mode": {
    "name": "ipython",
    "version": 3
   },
   "file_extension": ".py",
   "mimetype": "text/x-python",
   "name": "python",
   "nbconvert_exporter": "python",
   "pygments_lexer": "ipython3",
   "version": "3.10.12"
  }
 },
 "nbformat": 4,
 "nbformat_minor": 4
}
